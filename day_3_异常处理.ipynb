{
 "cells": [
  {
   "cell_type": "markdown",
   "metadata": {},
   "source": [
    "## Python 标准异常总结\n",
    "\n",
    "BaseException：所有异常的基类  \n",
    "Exception：常规异常的基类  \n",
    "StandardError：所有的内建标准异常的基类  \n",
    "ArithmeticError：所有数值计算异常的基类  \n",
    "FloatingPointError：浮点计算异常  \n",
    "OverflowError：数值运算超出最大限制  \n",
    "ZeroDivisionError：除数为零  \n",
    "AssertionError：断言语句（assert）失败  \n",
    "AttributeError：尝试访问未知的对象属性  \n",
    "EOFError：没有内建输入，到达EOF标记  \n",
    "EnvironmentError：操作系统异常的基类  \n",
    "IOError：输入/输出操作失败  \n",
    "OSError：操作系统产生的异常（例如打开一个不存在的文件）  \n",
    "WindowsError：系统调用失败  \n",
    "ImportError：导入模块失败的时候  \n",
    "KeyboardInterrupt：用户中断执行  \n",
    "LookupError：无效数据查询的基类  \n",
    "IndexError：索引超出序列的范围  \n",
    "KeyError：字典中查找一个不存在的关键字  \n",
    "MemoryError：内存溢出（可通过删除对象释放内存）  \n",
    "NameError：尝试访问一个不存在的变量  \n",
    "UnboundLocalError：访问未初始化的本地变量  \n",
    "ReferenceError：弱引用试图访问已经垃圾回收了的对象  \n",
    "RuntimeError：一般的运行时异常  \n",
    "NotImplementedError：尚未实现的方法    \n",
    "SyntaxError：语法错误导致的异常\n",
    "IndentationError：缩进错误导致的异常  \n",
    "TabError：Tab和空格混用  \n",
    "SystemError：一般的解释器系统异常  \n",
    "TypeError：不同类型间的无效操作  \n",
    "ValueError：传入无效的参数  \n",
    "UnicodeError：Unicode相关的异常  \n",
    "UnicodeDecodeError：Unicode解码时的异常  \n",
    "UnicodeEncodeError：Unicode编码错误导致的异常  \n",
    "UnicodeTranslateError：Unicode转换错误导致的异常  \n",
    "\n",
    "## Python标准警告总结\n",
    "\n",
    "Warning：警告的基类  \n",
    "DeprecationWarning：关于被弃用的特征的警告  \n",
    "FutureWarning：关于构造将来语义会有改变的警告  \n",
    "UserWarning：用户代码生成的警告  \n",
    "PendingDeprecationWarning：关于特性将会被废弃的警告  \n",
    "RuntimeWarning：可疑的运行时行为(runtime behavior)的警告  \n",
    "SyntaxWarning：可疑语法的警告  \n",
    "ImportWarning：用于在导入模块过程中触发的警告  \n",
    "UnicodeWarning：与Unicode相关的警告  \n",
    "BytesWarning：与字节或字节码相关的警告  \n",
    "ResourceWarning：与资源使用相关的警告  \n",
    "\n"
   ]
  },
  {
   "cell_type": "code",
   "execution_count": 2,
   "metadata": {},
   "outputs": [
    {
     "name": "stdout",
     "output_type": "stream",
     "text": [
      "打开文件出错\n",
      "打开文件出错\n",
      "原因是：[Errno 2] No such file or directory: 'test.txt'\n"
     ]
    }
   ],
   "source": [
    "#try - except 语句\n",
    "\"\"\"\n",
    "try:\n",
    "    检测范围\n",
    "except Exception[as reason]:\n",
    "    出现异常后的处理代码\n",
    "    \n",
    "如果在执行try子句的过程中发生了异常，那么try子句余下的部分将被忽略。如果异常的类型和except之后的名称相符，那么对应的except子句将被执行。最后执行try语句之后的代码。\n",
    "如果一个异常没有与任何的except匹配，那么这个异常将会传递给上层的try中。\n",
    "\n",
    "\"\"\"\n",
    "try:\n",
    "    f = open('test.txt')\n",
    "    print(f.read())\n",
    "    f.close()\n",
    "except OSError:\n",
    "    print('打开文件出错')\n",
    "\n",
    "try:\n",
    "    f = open('test.txt')\n",
    "    print(f.read())\n",
    "    f.close()\n",
    "except OSError as error:\n",
    "    print('打开文件出错\\n原因是：' + str(error))\n",
    "#一个try语句可能包含多个except子句，分别来处理不同的特定的异常。最多只有一个分支会被执行。\n",
    "\n"
   ]
  },
  {
   "cell_type": "code",
   "execution_count": 3,
   "metadata": {},
   "outputs": [
    {
     "name": "stdout",
     "output_type": "stream",
     "text": [
      "数值出错\n",
      "原因是：invalid literal for int() with base 10: 'abc'\n"
     ]
    }
   ],
   "source": [
    "try:\n",
    "    int(\"abc\")\n",
    "    s = 1 + '1'\n",
    "    f = open('test.txt')\n",
    "    print(f.read())\n",
    "    f.close()\n",
    "except OSError as error:\n",
    "    print('打开文件出错\\n原因是：' + str(error))\n",
    "except TypeError as error:\n",
    "    print('类型出错\\n原因是：' + str(error))\n",
    "except ValueError as error:\n",
    "    print('数值出错\\n原因是：' + str(error))\n"
   ]
  },
  {
   "cell_type": "code",
   "execution_count": 5,
   "metadata": {},
   "outputs": [
    {
     "name": "stdout",
     "output_type": "stream",
     "text": [
      "查询错误\n",
      "键错误\n"
     ]
    }
   ],
   "source": [
    "dict1 = {'a': 1, 'b': 2, 'v': 22}\n",
    "try:\n",
    "    x = dict1['y']\n",
    "except LookupError:\n",
    "    print('查询错误')\n",
    "except KeyError:\n",
    "    print('键错误')\n",
    "else:\n",
    "    print(x)\n",
    "\n",
    "#try-except-else语句尝试查询不在dict中的键值对，从而引发了异常。这一异常准确地说应属于KeyError，但由于KeyError是LookupError的子类，\n",
    "#且将LookupError置于KeyError之前，因此程序优先执行该except代码块。所以，使用多个except代码块时，必须坚持对其规范排序，\n",
    "#要从最具针对性的异常到最通用的异常。\n",
    "\n",
    "dict1 = {'a': 1, 'b': 2, 'v': 22}\n",
    "try:\n",
    "    x = dict1['y']\n",
    "except KeyError:\n",
    "    print('键错误')\n",
    "except LookupError:\n",
    "    print('查询错误')\n",
    "else:\n",
    "    print(x)"
   ]
  },
  {
   "cell_type": "code",
   "execution_count": 6,
   "metadata": {},
   "outputs": [
    {
     "name": "stdout",
     "output_type": "stream",
     "text": [
      "出错了！\n",
      "原因是：unsupported operand type(s) for +: 'int' and 'str'\n"
     ]
    }
   ],
   "source": [
    "#一个 except 子句可以同时处理多个异常，这些异常将被放在一个括号里成为一个元组\n",
    "try:\n",
    "    s = 1 + '1'\n",
    "    int(\"abc\")\n",
    "    f = open('test.txt')\n",
    "    print(f.read())\n",
    "    f.close()\n",
    "except (OSError, TypeError, ValueError) as error:\n",
    "    print('出错了！\\n原因是：' + str(error))"
   ]
  },
  {
   "cell_type": "code",
   "execution_count": 9,
   "metadata": {},
   "outputs": [
    {
     "name": "stdout",
     "output_type": "stream",
     "text": [
      "result is 2.0\n",
      "executing finally clause\n",
      "\n",
      "division by zero!\n",
      "executing finally clause\n",
      "\n",
      "executing finally clause\n"
     ]
    },
    {
     "ename": "TypeError",
     "evalue": "unsupported operand type(s) for /: 'str' and 'str'",
     "output_type": "error",
     "traceback": [
      "\u001b[1;31m---------------------------------------------------------------------------\u001b[0m",
      "\u001b[1;31mTypeError\u001b[0m                                 Traceback (most recent call last)",
      "\u001b[1;32m<ipython-input-9-d0a99ed8f0b7>\u001b[0m in \u001b[0;36m<module>\u001b[1;34m\u001b[0m\n\u001b[0;32m     25\u001b[0m \u001b[0mdivide\u001b[0m\u001b[1;33m(\u001b[0m\u001b[1;36m2\u001b[0m\u001b[1;33m,\u001b[0m \u001b[1;36m0\u001b[0m\u001b[1;33m)\u001b[0m\u001b[1;33m\u001b[0m\u001b[1;33m\u001b[0m\u001b[0m\n\u001b[0;32m     26\u001b[0m \u001b[0mprint\u001b[0m\u001b[1;33m(\u001b[0m\u001b[1;33m)\u001b[0m\u001b[1;33m\u001b[0m\u001b[1;33m\u001b[0m\u001b[0m\n\u001b[1;32m---> 27\u001b[1;33m \u001b[0mdivide\u001b[0m\u001b[1;33m(\u001b[0m\u001b[1;34m\"2\"\u001b[0m\u001b[1;33m,\u001b[0m \u001b[1;34m\"1\"\u001b[0m\u001b[1;33m)\u001b[0m\u001b[1;33m\u001b[0m\u001b[1;33m\u001b[0m\u001b[0m\n\u001b[0m",
      "\u001b[1;32m<ipython-input-9-d0a99ed8f0b7>\u001b[0m in \u001b[0;36mdivide\u001b[1;34m(x, y)\u001b[0m\n\u001b[0;32m     14\u001b[0m \u001b[1;32mdef\u001b[0m \u001b[0mdivide\u001b[0m\u001b[1;33m(\u001b[0m\u001b[0mx\u001b[0m\u001b[1;33m,\u001b[0m \u001b[0my\u001b[0m\u001b[1;33m)\u001b[0m\u001b[1;33m:\u001b[0m\u001b[1;33m\u001b[0m\u001b[1;33m\u001b[0m\u001b[0m\n\u001b[0;32m     15\u001b[0m     \u001b[1;32mtry\u001b[0m\u001b[1;33m:\u001b[0m\u001b[1;33m\u001b[0m\u001b[1;33m\u001b[0m\u001b[0m\n\u001b[1;32m---> 16\u001b[1;33m         \u001b[0mresult\u001b[0m \u001b[1;33m=\u001b[0m \u001b[0mx\u001b[0m \u001b[1;33m/\u001b[0m \u001b[0my\u001b[0m\u001b[1;33m\u001b[0m\u001b[1;33m\u001b[0m\u001b[0m\n\u001b[0m\u001b[0;32m     17\u001b[0m         \u001b[0mprint\u001b[0m\u001b[1;33m(\u001b[0m\u001b[1;34m\"result is\"\u001b[0m\u001b[1;33m,\u001b[0m \u001b[0mresult\u001b[0m\u001b[1;33m)\u001b[0m\u001b[1;33m\u001b[0m\u001b[1;33m\u001b[0m\u001b[0m\n\u001b[0;32m     18\u001b[0m     \u001b[1;32mexcept\u001b[0m \u001b[0mZeroDivisionError\u001b[0m\u001b[1;33m:\u001b[0m\u001b[1;33m\u001b[0m\u001b[1;33m\u001b[0m\u001b[0m\n",
      "\u001b[1;31mTypeError\u001b[0m: unsupported operand type(s) for /: 'str' and 'str'"
     ]
    }
   ],
   "source": [
    "#try - except - finally 语句\n",
    "\"\"\"\n",
    "try:\n",
    "    检测范围\n",
    "except Exception[as reason]:\n",
    "    出现异常后的处理代码\n",
    "finally:\n",
    "    无论如何都会被执行的代码\n",
    "    \n",
    "不管try子句里面有没有发生异常，finally子句都会执行。\n",
    "如果一个异常在try子句里被抛出，而又没有任何的except把它截住，那么这个异常会在finally子句执行后被抛出!\n",
    "\"\"\"\n",
    "\n",
    "def divide(x, y):\n",
    "    try:\n",
    "        result = x / y\n",
    "        print(\"result is\", result)\n",
    "    except ZeroDivisionError:\n",
    "        print(\"division by zero!\")\n",
    "    finally:\n",
    "        print(\"executing finally clause\")\n",
    "        \n",
    "divide(2, 1)\n",
    "print()\n",
    "divide(2, 0)\n",
    "print()\n",
    "divide(\"2\", \"1\")"
   ]
  },
  {
   "cell_type": "code",
   "execution_count": 12,
   "metadata": {},
   "outputs": [
    {
     "name": "stdout",
     "output_type": "stream",
     "text": [
      "内容写入文件成功\n"
     ]
    }
   ],
   "source": [
    "# try - except - else 语句\n",
    "#如果在try子句执行时没有发生异常，Python将执行else语句后的语句\n",
    "\"\"\"\n",
    "try:\n",
    "    检测范围\n",
    "except:\n",
    "    出现异常后的处理代码\n",
    "else:\n",
    "    如果没有异常执行这块代码\n",
    "    \n",
    "    \n",
    "try:\n",
    "    检测范围\n",
    "except(Exception1[, Exception2[,...ExceptionN]]]):\n",
    "   发生以上多个异常中的一个，执行这块代码\n",
    "else:\n",
    "    如果没有异常执行这块代码\n",
    "\"\"\"\n",
    "try:\n",
    "    fh = open(\"testfile\", \"w\")\n",
    "    fh.write(\"这是一个测试文件，用于测试异常!!\")\n",
    "except IOError:\n",
    "    print(\"Error: 没有找到文件或读取文件失败\")\n",
    "else:\n",
    "    print(\"内容写入文件成功\")\n",
    "    fh.close()\n",
    "\n",
    "#else语句的存在必须以except语句的存在为前提，在没有except语句的try语句中使用else语句，会引发语法错误"
   ]
  },
  {
   "cell_type": "code",
   "execution_count": 13,
   "metadata": {},
   "outputs": [
    {
     "name": "stdout",
     "output_type": "stream",
     "text": [
      "An exception flew by!\n"
     ]
    }
   ],
   "source": [
    "#raise语句\n",
    "#Python 使用raise语句抛出一个指定的异常\n",
    "try:\n",
    "    raise NameError('HiThere')\n",
    "except NameError:\n",
    "    print('An exception flew by!')"
   ]
  },
  {
   "cell_type": "code",
   "execution_count": 5,
   "metadata": {},
   "outputs": [
    {
     "name": "stdout",
     "output_type": "stream",
     "text": [
      "第1次输入\n",
      "请输入猜测数字:6\n",
      "小了\n",
      "第2次输入\n",
      "请输入猜测数字:20\n",
      "小了\n",
      "第3次输入\n",
      "请输入猜测数字:50\n",
      "小了\n",
      "第4次输入\n",
      "请输入猜测数字:80\n",
      "小了\n",
      "第5次输入\n",
      "请输入猜测数字:90\n",
      "大了\n",
      "第6次输入\n",
      "请输入猜测数字:85\n",
      "大了\n",
      "第7次输入\n",
      "请输入猜测数字:83\n",
      "大了\n",
      "第8次输入\n",
      "请输入猜测数字:82\n",
      "大了\n",
      "第9次输入\n",
      "请输入猜测数字:81\n",
      "恭喜你猜到了这个数是:81\n"
     ]
    }
   ],
   "source": [
    "#猜字游戏\n",
    "\"\"\"\n",
    "电脑产生一个零到100之间的随机数字，然后让用户来猜，如果用户猜的数字比这个数字大，提示太大，否则提示太小，\n",
    "当用户正好猜中电脑会提示，\"恭喜你猜到了这个数是......\"。在用户每次猜测之前程序会输出用户是第几次猜测，\n",
    "如果用户输入的根本不是一个数字，程序会告诉用户\"输入无效\"。\n",
    "\n",
    "(尝试使用try catch异常处理结构对输入情况进行处理)\n",
    "获取随机数采用random模块。\n",
    "\"\"\"\n",
    "import random\n",
    "def guessNumber(rangeNumber , s):\n",
    "    flag = 0\n",
    "    try:\n",
    "        x = input(\"第%d次输入\\n请输入猜测数字:\"% s)\n",
    "        x = int(x)\n",
    "        if x == rangeNumber:\n",
    "            print(\"恭喜你猜到了这个数是:%d\"%rangeNumber)\n",
    "            flag = 1\n",
    "        elif x > rangeNumber:\n",
    "            print(\"大了\")\n",
    "        else:\n",
    "            print(\"小了\")\n",
    "    except (TypeError,ValueError):\n",
    "        print(\"输入无效\")\n",
    "    finally:\n",
    "        return flag\n",
    "\n",
    "if __name__ == '__main__':\n",
    "    try:\n",
    "        rn = random.randint(0,100)\n",
    "        s = 1\n",
    "        while not guessNumber(rn,s):\n",
    "            s+=1\n",
    "    except Exception:\n",
    "        print(\"Error\")"
   ]
  },
  {
   "cell_type": "code",
   "execution_count": null,
   "metadata": {},
   "outputs": [],
   "source": []
  },
  {
   "cell_type": "code",
   "execution_count": null,
   "metadata": {},
   "outputs": [],
   "source": []
  }
 ],
 "metadata": {
  "kernelspec": {
   "display_name": "Python 3",
   "language": "python",
   "name": "python3"
  },
  "language_info": {
   "codemirror_mode": {
    "name": "ipython",
    "version": 3
   },
   "file_extension": ".py",
   "mimetype": "text/x-python",
   "name": "python",
   "nbconvert_exporter": "python",
   "pygments_lexer": "ipython3",
   "version": "3.7.6"
  }
 },
 "nbformat": 4,
 "nbformat_minor": 4
}
