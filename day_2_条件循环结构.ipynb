{
 "cells": [
  {
   "cell_type": "code",
   "execution_count": 4,
   "metadata": {},
   "outputs": [
    {
     "name": "stdout",
     "output_type": "stream",
     "text": [
      "2>1\n",
      "2不等于1\n",
      "猜数，请输入一个数字;10\n",
      "猜对了\n"
     ]
    }
   ],
   "source": [
    "#条件语句\n",
    "#if\n",
    "if 2>1:\n",
    "    print(\"2>1\")\n",
    "    \n",
    "#if-else\n",
    "if 2==1:\n",
    "    print(\"2=1\")\n",
    "else:\n",
    "    print(\"2不等于1\")\n",
    "    \n",
    "#if-elif-else\n",
    "temp=input(\"猜数，请输入一个数字;\")\n",
    "temp=int(temp)  #input函数将接收的任何数据类型都默认为 str 要转化为 int 再进行比较\n",
    "if temp>=100:\n",
    "    print(\"太大了\")\n",
    "elif 100>temp>10:\n",
    "    print(\"大了\")\n",
    "elif temp<10:\n",
    "    print(\"小了\")\n",
    "else:\n",
    "    print(\"猜对了\")"
   ]
  },
  {
   "cell_type": "code",
   "execution_count": 5,
   "metadata": {},
   "outputs": [
    {
     "name": "stdout",
     "output_type": "stream",
     "text": [
      "True\n"
     ]
    },
    {
     "ename": "AssertionError",
     "evalue": "",
     "output_type": "error",
     "traceback": [
      "\u001b[1;31m---------------------------------------------------------------------------\u001b[0m",
      "\u001b[1;31mAssertionError\u001b[0m                            Traceback (most recent call last)",
      "\u001b[1;32m<ipython-input-5-809eb93b660b>\u001b[0m in \u001b[0;36m<module>\u001b[1;34m\u001b[0m\n\u001b[0;32m      4\u001b[0m \u001b[1;32massert\u001b[0m \u001b[1;36m2\u001b[0m\u001b[1;33m>\u001b[0m\u001b[1;36m1\u001b[0m\u001b[1;33m\u001b[0m\u001b[1;33m\u001b[0m\u001b[0m\n\u001b[0;32m      5\u001b[0m \u001b[0mprint\u001b[0m\u001b[1;33m(\u001b[0m\u001b[1;34m\"True\"\u001b[0m\u001b[1;33m)\u001b[0m\u001b[1;33m\u001b[0m\u001b[1;33m\u001b[0m\u001b[0m\n\u001b[1;32m----> 6\u001b[1;33m \u001b[1;32massert\u001b[0m \u001b[1;36m2\u001b[0m\u001b[1;33m<\u001b[0m\u001b[1;36m1\u001b[0m\u001b[1;33m\u001b[0m\u001b[1;33m\u001b[0m\u001b[0m\n\u001b[0m\u001b[0;32m      7\u001b[0m \u001b[0mprint\u001b[0m\u001b[1;33m(\u001b[0m\u001b[1;34m\"False\"\u001b[0m\u001b[1;33m)\u001b[0m\u001b[1;33m\u001b[0m\u001b[1;33m\u001b[0m\u001b[0m\n",
      "\u001b[1;31mAssertionError\u001b[0m: "
     ]
    }
   ],
   "source": [
    "#assert关键词\n",
    "#assert这个关键词我们称之为“断言”，当这个关键词后边的条件为 False 时，程序自动崩溃并抛出AssertionError的异常\n",
    "#在进行单元测试时，可以用来在程序中置入检查点，只有条件为 True 才能让程序正常工作\n",
    "assert 2>1\n",
    "print(\"True\")\n",
    "assert 2<1\n",
    "print(\"False\")"
   ]
  },
  {
   "cell_type": "code",
   "execution_count": 8,
   "metadata": {},
   "outputs": [
    {
     "name": "stdout",
     "output_type": "stream",
     "text": [
      "123456\n",
      "23456\n",
      "3456\n",
      "456\n",
      "56\n",
      "6\n",
      "0 is  less than 5\n",
      "1 is  less than 5\n",
      "2 is  less than 5\n",
      "3 is  less than 5\n",
      "4 is  less than 5\n",
      "5 is not less than 5\n",
      "0 is  less than 5\n",
      "1 2 3 4 5 6 张三\n",
      "李四\n",
      "刘德华\n",
      "刘六\n",
      "周润发\n",
      "a:1 b:2 c:3 d:4 a b c d 1 2 3 4 10 等于 2 * 5\n",
      "11 是一个质数\n",
      "12 等于 2 * 6\n",
      "13 是一个质数\n",
      "14 等于 2 * 7\n",
      "15 等于 3 * 5\n",
      "16 等于 2 * 8\n",
      "17 是一个质数\n",
      "18 等于 2 * 9\n",
      "19 是一个质数\n"
     ]
    }
   ],
   "source": [
    "#循环语句\n",
    "#while\n",
    "#w如果布尔表达式不带有<、>、==、！=、in、not in等运算符，仅仅给出数值之类的条件，也是可以的。\n",
    "#当while后写入一个非零整数时，视为真值，执行循环体；写入0时，视为假值，不执行循环体。\n",
    "#写入str、list或任何序列，长度非零则视为真值，执行循环体；否则视为假值，不执行循环体。\n",
    "string = '123456'\n",
    "while string:\n",
    "    print(string)\n",
    "    string = string[1:]\n",
    "\n",
    "#while-else\n",
    "#当while循环正常执行完的情况下，执行else输出，如果while循环中执行了跳出循环的语句，比如 break，将不执行else代码块的内容\n",
    "count = 0\n",
    "while count < 5:\n",
    "    print(\"%d is  less than 5\" % count)\n",
    "    count = count + 1\n",
    "else:\n",
    "    print(\"%d is not less than 5\" % count)\n",
    "    \n",
    "count = 0\n",
    "while count < 5:\n",
    "    print(\"%d is  less than 5\" % count)\n",
    "    count = 6\n",
    "    break\n",
    "else:\n",
    "    print(\"%d is not less than 5\" % count)\n",
    "\n",
    "#for \n",
    "#for循环是迭代循环，在Python中相当于一个通用的序列迭代器，可以遍历任何有序序列，如str、list、tuple等，也可以遍历任何可迭代对象，如dict\n",
    "\"\"\"\n",
    "for 迭代变量 in 可迭代对象:\n",
    "    代码块\n",
    "    \n",
    "每次循环，迭代变量被设置为可迭代对象的当前元素，提供给代码块使用\n",
    "\"\"\"\n",
    "for i in \"123456\":\n",
    "    print(i,end=\" \")  #不换行输出\n",
    "    \n",
    "member = ['张三', '李四', '刘德华', '刘六', '周润发']\n",
    "for each in member:\n",
    "    print(each)  #换行\n",
    "\n",
    "dic = {'a': 1, 'b': 2, 'c': 3, 'd': 4}\n",
    "for key, value in dic.items():  #items->value,key\n",
    "    print(key, value, sep=':', end=' ')\n",
    "for key in dic.keys():          #keys->key\n",
    "    print(key,end=\" \")\n",
    "for value in dic.values():      #values-value\n",
    "    print(value,end=\" \")\n",
    "\n",
    "\n",
    "#for-else\n",
    "#当for循环正常执行完的情况下，执行else输出，如果for循环中执行了跳出循环的语句，比如 break，将不执行else代码块的内容，与while - else语句一样\n",
    "#求质数\n",
    "for num in range(10, 20):  # 迭代 10 到 20 之间的数字\n",
    "    for i in range(2, num):  # 根据因子迭代\n",
    "        if num % i == 0:  # 确定第一个因子\n",
    "            j = num / i  # 计算第二个因子\n",
    "            print('%d 等于 %d * %d' % (num, i, j))\n",
    "            break  # 跳出当前循环\n",
    "    else:  # 循环的 else 部分\n",
    "        print(num, '是一个质数')"
   ]
  },
  {
   "cell_type": "code",
   "execution_count": 9,
   "metadata": {},
   "outputs": [
    {
     "name": "stdout",
     "output_type": "stream",
     "text": [
      "1\n",
      "2\n",
      "3\n",
      "4\n",
      "5\n",
      "6\n",
      "7\n",
      "8\n",
      "1\n",
      "3\n",
      "5\n",
      "7\n"
     ]
    }
   ],
   "source": [
    "#range()函数\n",
    "\"\"\"\n",
    "range([start,] stop[, step=1])\n",
    "这个BIF（Built-in functions）（内置函数）有三个参数，其中用中括号括起来的两个表示这两个参数是可选的\n",
    "step=1 表示第三个参数的默认值是1\n",
    "生成一个从start参数的值开始到stop参数的值结束的数字序列，该序列包含start的值，但不包含stop的值\n",
    "\"\"\"\n",
    "for i in range(1, 9):  # 不包含9\n",
    "    print(i)\n",
    "for i in range(1, 9, 2):  \n",
    "    print(i)"
   ]
  },
  {
   "cell_type": "code",
   "execution_count": 17,
   "metadata": {},
   "outputs": [
    {
     "name": "stdout",
     "output_type": "stream",
     "text": [
      "[(0, 'Spring'), (1, 'Summer'), (2, 'Fall'), (3, 'Winter')]\n",
      "[(1, 'Spring'), (2, 'Summer'), (3, 'Fall'), (4, 'Winter')]\n",
      "I love Python\n",
      "I love R\n",
      "I love Matlab\n",
      "I love C++\n",
      "Done! \n",
      "\n",
      "2 I love Python\n",
      "3 I love R\n",
      "4 I love Matlab\n",
      "5 I love C++\n",
      "Done!\n"
     ]
    }
   ],
   "source": [
    "#enumerate()函数\n",
    "\"\"\"\n",
    "enumerate(sequence, [start=0])\n",
    "sequence -- 一个序列、迭代器或其他支持迭代对象\n",
    "start -- 下标起始位置,默认从0开始\n",
    "返回 enumerate(枚举) 对象\n",
    "\"\"\"\n",
    "seasons = ['Spring', 'Summer', 'Fall', 'Winter']\n",
    "lst = list(enumerate(seasons))\n",
    "print(lst)\n",
    "\n",
    "lst = list(enumerate(seasons, start=1))  # 下标从 1 开始\n",
    "print(lst)\n",
    "\n",
    "#enumerate()与 for 循环的结合使用\n",
    "\"\"\"\n",
    "for i, a in enumerate(A)\n",
    "    do something with a  \n",
    "    \n",
    "用 enumerate(A) 不仅返回了 A 中的元素，还顺便给该元素一个索引值 (默认从 0 开始)。\n",
    "此外，用 enumerate(A, j) 还可以确定索引起始值为 j\n",
    "\"\"\"\n",
    "languages = ['Python', 'R', 'Matlab', 'C++']\n",
    "for language in languages:\n",
    "    print('I love', language)\n",
    "print('Done!',\"\\n\")\n",
    "for i, language in enumerate(languages, 2):\n",
    "    print(i, 'I love', language)\n",
    "print('Done!')"
   ]
  },
  {
   "cell_type": "code",
   "execution_count": 20,
   "metadata": {},
   "outputs": [],
   "source": [
    "#break语句  可以跳出当前所在层的循环\n",
    "\n",
    "#continue语句   continue终止本轮循环并开始下一轮循环\n",
    "\n",
    "#pass 语句\n",
    "#pass 语句的意思是“不做任何事”，如果你在需要有语句的地方不写任何语句，那么解释器会提示出错，而 pass 语句就是用来解决这些问题的\n",
    "#pass是空语句，不做任何操作，只起到占位的作用，其作用是为了保持程序结构的完整性。\n",
    "#尽管pass语句不做任何操作，但如果暂时不确定要在一个位置放上什么样的代码，可以先放置一个pass语句，让代码可以正常运行。\n",
    "def a_func():\n",
    "    pass"
   ]
  },
  {
   "cell_type": "code",
   "execution_count": 27,
   "metadata": {
    "scrolled": true
   },
   "outputs": [
    {
     "name": "stdout",
     "output_type": "stream",
     "text": [
      "[-8, -4, 0, 4, 8]\n",
      "[1, 4, 9, 16, 25, 36, 49, 64, 81]\n",
      "[(0, 0), (1, 1), (2, 4), (3, 9), (4, 16), (5, 25)]\n",
      "[3, 9, 15, 21, 27, 33, 39, 45, 51, 57, 63, 69, 75, 81, 87, 93, 99]\n",
      "[(0, 0), (0, 1), (0, 2), (1, 0), (1, 1), (1, 2), (2, 0), (2, 1), (2, 2)]\n",
      "[[0, 0], [0, 1], [0, 2], [1, 0], [1, 1], [1, 2], [2, 0], [2, 1], [2, 2]]\n",
      "[[10, 0], [0, 1], [0, 2], [1, 0], [1, 1], [1, 2], [2, 0], [2, 1], [2, 2]]\n",
      "[(0, 2)]\n",
      "(0, 1, 2, 3, 4, 5, 6, 7, 8, 9)\n",
      "{0: True, 3: False, 6: True, 9: False}\n",
      "{1, 2, 3, 4, 5, 6}\n",
      "i for i in \"I Love Python!\"\n",
      "<generator object <genexpr> at 0x0000015D65307F48>\n",
      "0\n",
      "1\n",
      "2 3 4 5 6 7 8 9 5050\n",
      "5050\n"
     ]
    }
   ],
   "source": [
    "#推导式\n",
    "#列表推导式 [ expr for value in collection [if condition] ]\n",
    "x = [-4, -2, 0, 2, 4]\n",
    "y = [a * 2 for a in x]\n",
    "print(y)\n",
    "\n",
    "x = [i ** 2 for i in range(1, 10)]\n",
    "print(x)\n",
    "\n",
    "x = [(i, i ** 2) for i in range(6)]\n",
    "print(x)\n",
    "\n",
    "x = [i for i in range(100) if (i % 2) != 0 and (i % 3) == 0]\n",
    "print(x)\n",
    "\n",
    "a = [(i, j) for i in range(0, 3) for j in range(0, 3)]\n",
    "print(a)\n",
    "\n",
    "x = [[i, j] for i in range(0, 3) for j in range(0, 3)]\n",
    "print(x)\n",
    "\n",
    "x[0][0] = 10  #更改数组第一个元素的值\n",
    "print(x)\n",
    "\n",
    "a = [(i, j) for i in range(0, 3) if i < 1 for j in range(0, 3) if j > 1]\n",
    "print(a)\n",
    "\n",
    "\n",
    "#元组推导式\n",
    "#( expr for value in collection [if condition] )\n",
    "a = (x for x in range(10))\n",
    "print(tuple(a))   #<generator object <genexpr> at 0x0000015D65307C48>\n",
    "\n",
    "#字典推导式\n",
    "#{ key_expr: value_expr for value in collection [if condition] }\n",
    "b = {i: i % 2 == 0 for i in range(10) if i % 3 == 0}\n",
    "print(b)\n",
    "\n",
    "#集合推导式\n",
    "#{ expr for value in collection [if condition] }\n",
    "c = {i for i in [1, 2, 3, 4, 5, 5, 6, 4, 3, 2, 1, 1]}\n",
    "print(c)   #输出的数字不重复？\n",
    "\n",
    "#其他\n",
    "d = 'i for i in \"I Love Python!\"'\n",
    "print(d)\n",
    "\n",
    "e = (i for i in range(10))\n",
    "print(e)   # <generator object <genexpr> at 0x0000007A0B8D01B0>\n",
    "\n",
    "print(next(e))  # 0\n",
    "print(next(e))  # 1\n",
    "\n",
    "for each in e:\n",
    "    print(each, end=' ')  # 2 3 4 5 6 7 8 9\n",
    "\n",
    "s = sum([i for i in range(101)])\n",
    "print(s)  # 5050\n",
    "s = sum((i for i in range(101)))\n",
    "print(s)  # 5050"
   ]
  },
  {
   "cell_type": "code",
   "execution_count": 36,
   "metadata": {},
   "outputs": [
    {
     "name": "stdout",
     "output_type": "stream",
     "text": [
      "1505\n",
      "1540\n",
      "1575\n",
      "1610\n",
      "1645\n",
      "1680\n",
      "1715\n",
      "1750\n",
      "1785\n",
      "1820\n",
      "1855\n",
      "1890\n",
      "1925\n",
      "1960\n",
      "1995\n",
      "2030\n",
      "2065\n",
      "2100\n",
      "2135\n",
      "2170\n",
      "2205\n",
      "2240\n",
      "2275\n",
      "2310\n",
      "2345\n",
      "2380\n",
      "2415\n",
      "2450\n",
      "2485\n",
      "2520\n",
      "2555\n",
      "2590\n",
      "2625\n",
      "2660\n",
      "2695\n"
     ]
    }
   ],
   "source": [
    "#编写一个Python程序来查找那些既可以被7整除又可以被5整除的数字，介于1500和2700之间\n",
    "x = [i for i in range(1500,2700) if (i%7 == 0 and i%5 == 0)]\n",
    "for each in x:\n",
    "    print (each)"
   ]
  },
  {
   "cell_type": "code",
   "execution_count": null,
   "metadata": {},
   "outputs": [],
   "source": []
  }
 ],
 "metadata": {
  "kernelspec": {
   "display_name": "Python 3",
   "language": "python",
   "name": "python3"
  },
  "language_info": {
   "codemirror_mode": {
    "name": "ipython",
    "version": 3
   },
   "file_extension": ".py",
   "mimetype": "text/x-python",
   "name": "python",
   "nbconvert_exporter": "python",
   "pygments_lexer": "ipython3",
   "version": "3.7.6"
  }
 },
 "nbformat": 4,
 "nbformat_minor": 4
}
