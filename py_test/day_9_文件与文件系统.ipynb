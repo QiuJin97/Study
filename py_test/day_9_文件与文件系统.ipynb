{
 "cells": [
  {
   "cell_type": "markdown",
   "metadata": {},
   "source": [
    "### 打开文件\n",
    "- <code>open(file, mode='r', buffering=None, encoding=None, errors=None, newline=None, closefd=True) </code>  \n",
    "    Open file and return a stream. Raise OSError upon failure.\n",
    "   - file: 必需，文件路径（相对或者绝对路径）。\n",
    "   - mode: 可选，文件打开模式\n",
    "   - buffering: 设置缓冲\n",
    "   - encoding: 一般使用utf8\n",
    "   - errors: 报错级别\n",
    "   - newline: 区分换行符\n",
    "\n",
    "\n",
    "常见的<code>mode</code>如下表所示：\n",
    "\n",
    "| 打开模式 | 执行操作 |\n",
    "|:---:|:----|\n",
    "|'r' |\t以只读方式打开文件。文件的指针将会放在文件的开头。这是默认模式。|\n",
    "|'w' |\t打开一个文件只用于写入。|\n",
    "||如果该文件已存在则打开文件，并从开头开始编辑。\n",
    "||即原有内容会被删除。\n",
    "||如果该文件不存在，创建新文件。|\n",
    "|'x' |\t写模式，新建一个文件，如果该文件已存在则会报错。|\n",
    "|'a' |\t追加模式，打开一个文件用于追加。\n",
    "||如果该文件已存在，文件指针将会放在文件的结尾。\n",
    "||也就是说，新的内容将会被写入到已有内容之后。\n",
    "||如果该文件不存在，创建新文件进行写入。|\n",
    "|'b' |\t以二进制模式打开文件。一般用于非文本文件，如：图片。|\n",
    "|'t' |\t以文本模式打开（默认）。一般用于文本文件，如：txt。|\n",
    "|'+' |\t可读写模式（可添加到其它模式中使用）|"
   ]
  },
  {
   "cell_type": "code",
   "execution_count": 9,
   "metadata": {},
   "outputs": [
    {
     "name": "stdout",
     "output_type": "stream",
     "text": [
      "<_io.TextIOWrapper name='将进酒.txt' mode='r' encoding='utf-8'>\n",
      "君不见，黄河之水天上来，奔流到海不复回。\n",
      "\n",
      "君不见，高堂明镜悲白发，朝如青丝暮成雪。\n",
      "\n",
      "人生得意须尽欢，莫使金樽空对月。\n",
      "\n",
      "天生我材必有用，千金散尽还复来。\n",
      "\n",
      "烹羊宰牛且为乐，会须一饮三百杯。\n",
      "\n",
      "岑夫子，丹丘生，将进酒，杯莫停。\n",
      "\n",
      "与君歌一曲，请君为我倾耳听。\n",
      "\n",
      "钟鼓馔玉不足贵，但愿长醉不复醒。\n",
      "\n",
      "古来圣贤皆寂寞，惟有饮者留其名。\n",
      "\n",
      "陈王昔时宴平乐，斗酒十千恣欢谑。\n",
      "\n",
      "主人何为言少钱，径须沽取对君酌。\n",
      "\n",
      "五花马，千金裘，呼儿将出换美酒，与尔同销万古愁。\n"
     ]
    }
   ],
   "source": [
    "# 打开一个文件，并返回文件对象，如果该文件无法被打开，会抛出OSError\n",
    "f = open('将进酒.txt',encoding= 'utf-8')\n",
    "print(f)\n",
    "# <_io.TextIOWrapper name='将进酒.txt' mode='r' encoding='cp936'>\n",
    "#报错后添加UTF-8\n",
    "for each in f:\n",
    "    print(each)"
   ]
  },
  {
   "cell_type": "markdown",
   "metadata": {},
   "source": [
    "### 文件对象方法\n",
    "\n",
    "- <code>fileObject.close()</code> 用于关闭一个已打开的文件。关闭后的文件不能再进行读写操作， 否则会触发ValueError错误\n",
    "\n"
   ]
  },
  {
   "cell_type": "code",
   "execution_count": 10,
   "metadata": {},
   "outputs": [
    {
     "name": "stdout",
     "output_type": "stream",
     "text": [
      "FileName: 将进酒.txt\n"
     ]
    }
   ],
   "source": [
    "f = open(\"将进酒.txt\")\n",
    "print('FileName:', f.name)  # FileName: 将进酒.txt\n",
    "f.close()"
   ]
  },
  {
   "cell_type": "markdown",
   "metadata": {},
   "source": [
    "- <code>fileObject.read([size])</code> 用于从文件读取指定的字符数，如果未给定或为负则读取所有"
   ]
  },
  {
   "cell_type": "code",
   "execution_count": 12,
   "metadata": {},
   "outputs": [
    {
     "name": "stdout",
     "output_type": "stream",
     "text": [
      "读取的字符串: 君不见，黄河之水天上来，奔流到海不复回。\n"
     ]
    }
   ],
   "source": [
    "f = open('将进酒.txt', 'r',encoding= 'utf-8')\n",
    "line = f.read(20)\n",
    "print(\"读取的字符串: %s\" % line)\n",
    "# 读取的字符串: 君不见，黄河之水天上来，奔流到海不复回。\n",
    "\n",
    "f.close()"
   ]
  },
  {
   "cell_type": "markdown",
   "metadata": {},
   "source": [
    "- <code>fileObject.readline()</code>读取整行，包括 \"\\n\" 字符"
   ]
  },
  {
   "cell_type": "code",
   "execution_count": 14,
   "metadata": {},
   "outputs": [
    {
     "name": "stdout",
     "output_type": "stream",
     "text": [
      "读取的字符串: 君不见，黄河之水天上来，奔流到海不复回。\n",
      "\n"
     ]
    }
   ],
   "source": [
    "f = open('将进酒.txt', 'r',encoding= 'utf-8')\n",
    "line = f.readline()\n",
    "print(\"读取的字符串: %s\" % line)\n",
    "# 读取的字符串: 君不见，黄河之水天上来，奔流到海不复回。\n",
    "f.close()"
   ]
  },
  {
   "cell_type": "markdown",
   "metadata": {},
   "source": [
    "- <code>fileObject.readlines()</code>用于读取所有行(直到结束符 EOF)并返回列表，该列表可以由 Python 的 <code>for... in ...</code> 结构进行处理"
   ]
  },
  {
   "cell_type": "code",
   "execution_count": 16,
   "metadata": {},
   "outputs": [
    {
     "name": "stdout",
     "output_type": "stream",
     "text": [
      "['君不见，黄河之水天上来，奔流到海不复回。\\n', '君不见，高堂明镜悲白发，朝如青丝暮成雪。\\n', '人生得意须尽欢，莫使金樽空对月。\\n', '天生我材必有用，千金散尽还复来。\\n', '烹羊宰牛且为乐，会须一饮三百杯。\\n', '岑夫子，丹丘生，将进酒，杯莫停。\\n', '与君歌一曲，请君为我倾耳听。\\n', '钟鼓馔玉不足贵，但愿长醉不复醒。\\n', '古来圣贤皆寂寞，惟有饮者留其名。\\n', '陈王昔时宴平乐，斗酒十千恣欢谑。\\n', '主人何为言少钱，径须沽取对君酌。\\n', '五花马，千金裘，呼儿将出换美酒，与尔同销万古愁。']\n",
      "君不见，黄河之水天上来，奔流到海不复回。\n",
      "\n",
      "君不见，高堂明镜悲白发，朝如青丝暮成雪。\n",
      "\n",
      "人生得意须尽欢，莫使金樽空对月。\n",
      "\n",
      "天生我材必有用，千金散尽还复来。\n",
      "\n",
      "烹羊宰牛且为乐，会须一饮三百杯。\n",
      "\n",
      "岑夫子，丹丘生，将进酒，杯莫停。\n",
      "\n",
      "与君歌一曲，请君为我倾耳听。\n",
      "\n",
      "钟鼓馔玉不足贵，但愿长醉不复醒。\n",
      "\n",
      "古来圣贤皆寂寞，惟有饮者留其名。\n",
      "\n",
      "陈王昔时宴平乐，斗酒十千恣欢谑。\n",
      "\n",
      "主人何为言少钱，径须沽取对君酌。\n",
      "\n",
      "五花马，千金裘，呼儿将出换美酒，与尔同销万古愁。\n"
     ]
    }
   ],
   "source": [
    "f = open('将进酒.txt', 'r',encoding= 'utf-8')\n",
    "lines = f.readlines()\n",
    "print(lines)\n",
    "\n",
    "for each in lines:\n",
    "    each.strip()\n",
    "    print(each)\n",
    "\n",
    "\n",
    "f.close()"
   ]
  },
  {
   "cell_type": "markdown",
   "metadata": {},
   "source": [
    "- <code>fileObject.tell()</code>返回文件的当前位置，即文件指针当前位置"
   ]
  },
  {
   "cell_type": "code",
   "execution_count": 17,
   "metadata": {},
   "outputs": [
    {
     "name": "stdout",
     "output_type": "stream",
     "text": [
      "君不见，黄河之水天上来，奔流到海不复回。\n",
      "\n",
      "61\n"
     ]
    }
   ],
   "source": [
    "f = open('将进酒.txt', 'r',encoding= 'utf-8')\n",
    "line = f.readline()\n",
    "print(line)\n",
    "# 君不见，黄河之水天上来，奔流到海不复回。\n",
    "pos = f.tell()\n",
    "print(pos)  # 42\n",
    "f.close()"
   ]
  },
  {
   "cell_type": "markdown",
   "metadata": {},
   "source": [
    "- <code>fileObject.seek(offset[, whence])</code>用于移动文件读取指针到指定位置。\n",
    "    - <code>offset</code>：开始的偏移量，也就是代表需要移动偏移的字节数，如果是负数表示从倒数第几位开始。\n",
    "    - <code>whence</code>：可选，默认值为 0。给 offset 定义一个参数，表示要从哪个位置开始偏移；0 代表从文件开头开始算起，1 代表从当前位置开始算起，2 代表从文件末尾算起。\n"
   ]
  },
  {
   "cell_type": "code",
   "execution_count": 18,
   "metadata": {},
   "outputs": [
    {
     "name": "stdout",
     "output_type": "stream",
     "text": [
      "君不见，黄河之水天上来，奔流到海不复回。\n",
      "\n",
      "君不见，高堂明镜悲白发，朝如青丝暮成雪。\n",
      "\n",
      "君不见，黄河之水天上来，奔流到海不复回。\n",
      "\n"
     ]
    }
   ],
   "source": [
    "f = open('将进酒.txt', 'r',encoding= 'utf-8')\n",
    "line = f.readline()\n",
    "print(line)\n",
    "# 君不见，黄河之水天上来，奔流到海不复回。\n",
    "line = f.readline()\n",
    "print(line)\n",
    "# 君不见，高堂明镜悲白发，朝如青丝暮成雪。\n",
    "f.seek(0, 0)\n",
    "line = f.readline()\n",
    "print(line)\n",
    "# 君不见，黄河之水天上来，奔流到海不复回。\n",
    "f.close()"
   ]
  },
  {
   "cell_type": "markdown",
   "metadata": {},
   "source": [
    "- <code>fileObject.write(str)</code>用于向文件中写入指定字符串，返回的是写入的字符长度"
   ]
  },
  {
   "cell_type": "code",
   "execution_count": 19,
   "metadata": {},
   "outputs": [
    {
     "name": "stdout",
     "output_type": "stream",
     "text": [
      "16\n",
      "5\n",
      "b'5'\n",
      "13\n",
      "b'd'\n"
     ]
    }
   ],
   "source": [
    "f = open('workfile.txt', 'wb+')\n",
    "print(f.write(b'0123456789abcdef'))  # 16\n",
    "print(f.seek(5))  # 5\n",
    "print(f.read(1))  # b'5'\n",
    "print(f.seek(-3, 2))  # 13\n",
    "print(f.read(1))  # b'd'"
   ]
  },
  {
   "cell_type": "markdown",
   "metadata": {},
   "source": [
    "在文件关闭前或缓冲区刷新前，字符串内容存储在缓冲区中，这时你在文件中是看不到写入的内容的。\n",
    "\n",
    "如果文件打开模式带b，那写入文件内容时，str（参数）要用encode方法转为bytes形式，否则报错：TypeError: a bytes-like object is required, not 'str'。"
   ]
  },
  {
   "cell_type": "code",
   "execution_count": 20,
   "metadata": {},
   "outputs": [],
   "source": [
    "str = '...'\n",
    "# 文本 = Unicode字符序列\n",
    "# 相当于 string 类型\n",
    "\n",
    "str = b'...'\n",
    "# 文本 = 八位序列(0到255之间的整数)\n",
    "# 字节文字总是以‘b’或‘B’作为前缀；它们产生一个字节类型的实例，而不是str类型。\n",
    "# 相当于 byte[]"
   ]
  },
  {
   "cell_type": "code",
   "execution_count": 21,
   "metadata": {},
   "outputs": [
    {
     "name": "stdout",
     "output_type": "stream",
     "text": [
      "君不见，黄河之水天上来，奔流到海不复回。\n",
      "\n",
      "君不见，高堂明镜悲白发，朝如青丝暮成雪。\n",
      "\n",
      "人生得意须尽欢，莫使金樽空对月。\n",
      "\n",
      "天生我材必有用，千金散尽还复来。\n",
      "\n",
      "烹羊宰牛且为乐，会须一饮三百杯。\n",
      "\n",
      "岑夫子，丹丘生，将进酒，杯莫停。\n",
      "\n",
      "与君歌一曲，请君为我倾耳听。\n",
      "\n",
      "钟鼓馔玉不足贵，但愿长醉不复醒。\n",
      "\n",
      "古来圣贤皆寂寞，惟有饮者留其名。\n",
      "\n",
      "陈王昔时宴平乐，斗酒十千恣欢谑。\n",
      "\n",
      "主人何为言少钱，径须沽取对君酌。\n",
      "\n",
      "五花马，千金裘，呼儿将出换美酒，与尔同销万古愁。\n",
      "\n",
      "作者：李白\n"
     ]
    }
   ],
   "source": [
    "f = open('将进酒.txt', 'r+',encoding= 'utf-8')\n",
    "str = '\\n作者：李白'\n",
    "f.seek(0, 2)\n",
    "line = f.write(str)\n",
    "f.seek(0, 0)\n",
    "for each in f:\n",
    "    print(each)\n",
    "\n",
    "\n",
    "f.close()"
   ]
  },
  {
   "cell_type": "markdown",
   "metadata": {},
   "source": [
    "- <code>fileObject.writelines(sequence)</code>向文件写入一个序列字符串列表，如果需要换行则要自己加入每行的换行符\\n。"
   ]
  },
  {
   "cell_type": "code",
   "execution_count": 22,
   "metadata": {},
   "outputs": [
    {
     "name": "stdout",
     "output_type": "stream",
     "text": [
      "小马的程序人生\n",
      "\n",
      "老马的程序人生\n"
     ]
    }
   ],
   "source": [
    "f = open('test.txt', 'w+',encoding= 'utf-8')\n",
    "seq = ['小马的程序人生\\n', '老马的程序人生']\n",
    "f.writelines(seq)\n",
    "f.seek(0, 0)\n",
    "for each in f:\n",
    "    print(each)\n",
    "    \n",
    "# 小马的程序人生\n",
    "# 老马的程序人生\n",
    "f.close()"
   ]
  },
  {
   "cell_type": "markdown",
   "metadata": {},
   "source": [
    "### 简洁的 with 语句\n",
    "一些对象定义了标准的清理行为，无论系统是否成功的使用了它，一旦不需要它了，那么这个标准的清理行为就会执行。\n",
    "\n",
    "关键词 with 语句就可以保证诸如文件之类的对象在使用完之后一定会正确的执行它的清理方法。"
   ]
  },
  {
   "cell_type": "code",
   "execution_count": 24,
   "metadata": {},
   "outputs": [
    {
     "ename": "TypeError",
     "evalue": "'str' object is not callable",
     "output_type": "error",
     "traceback": [
      "\u001b[1;31m---------------------------------------------------------------------------\u001b[0m",
      "\u001b[1;31mUnsupportedOperation\u001b[0m                      Traceback (most recent call last)",
      "\u001b[1;32m<ipython-input-24-67176d48f136>\u001b[0m in \u001b[0;36m<module>\u001b[1;34m\u001b[0m\n\u001b[0;32m      2\u001b[0m     \u001b[0mf\u001b[0m \u001b[1;33m=\u001b[0m \u001b[0mopen\u001b[0m\u001b[1;33m(\u001b[0m\u001b[1;34m'myfile.txt'\u001b[0m\u001b[1;33m,\u001b[0m \u001b[1;34m'w'\u001b[0m\u001b[1;33m)\u001b[0m\u001b[1;33m\u001b[0m\u001b[1;33m\u001b[0m\u001b[0m\n\u001b[1;32m----> 3\u001b[1;33m     \u001b[1;32mfor\u001b[0m \u001b[0mline\u001b[0m \u001b[1;32min\u001b[0m \u001b[0mf\u001b[0m\u001b[1;33m:\u001b[0m\u001b[1;33m\u001b[0m\u001b[1;33m\u001b[0m\u001b[0m\n\u001b[0m\u001b[0;32m      4\u001b[0m         \u001b[0mprint\u001b[0m\u001b[1;33m(\u001b[0m\u001b[0mline\u001b[0m\u001b[1;33m)\u001b[0m\u001b[1;33m\u001b[0m\u001b[1;33m\u001b[0m\u001b[0m\n",
      "\u001b[1;31mUnsupportedOperation\u001b[0m: not readable",
      "\nDuring handling of the above exception, another exception occurred:\n",
      "\u001b[1;31mTypeError\u001b[0m                                 Traceback (most recent call last)",
      "\u001b[1;32m<ipython-input-24-67176d48f136>\u001b[0m in \u001b[0;36m<module>\u001b[1;34m\u001b[0m\n\u001b[0;32m      4\u001b[0m         \u001b[0mprint\u001b[0m\u001b[1;33m(\u001b[0m\u001b[0mline\u001b[0m\u001b[1;33m)\u001b[0m\u001b[1;33m\u001b[0m\u001b[1;33m\u001b[0m\u001b[0m\n\u001b[0;32m      5\u001b[0m \u001b[1;32mexcept\u001b[0m \u001b[0mOSError\u001b[0m \u001b[1;32mas\u001b[0m \u001b[0merror\u001b[0m\u001b[1;33m:\u001b[0m\u001b[1;33m\u001b[0m\u001b[1;33m\u001b[0m\u001b[0m\n\u001b[1;32m----> 6\u001b[1;33m     \u001b[0mprint\u001b[0m\u001b[1;33m(\u001b[0m\u001b[1;34m'出错啦!%s'\u001b[0m \u001b[1;33m%\u001b[0m \u001b[0mstr\u001b[0m\u001b[1;33m(\u001b[0m\u001b[0merror\u001b[0m\u001b[1;33m)\u001b[0m\u001b[1;33m)\u001b[0m\u001b[1;33m\u001b[0m\u001b[1;33m\u001b[0m\u001b[0m\n\u001b[0m\u001b[0;32m      7\u001b[0m \u001b[1;32mfinally\u001b[0m\u001b[1;33m:\u001b[0m\u001b[1;33m\u001b[0m\u001b[1;33m\u001b[0m\u001b[0m\n\u001b[0;32m      8\u001b[0m     \u001b[0mf\u001b[0m\u001b[1;33m.\u001b[0m\u001b[0mclose\u001b[0m\u001b[1;33m(\u001b[0m\u001b[1;33m)\u001b[0m\u001b[1;33m\u001b[0m\u001b[1;33m\u001b[0m\u001b[0m\n",
      "\u001b[1;31mTypeError\u001b[0m: 'str' object is not callable"
     ]
    }
   ],
   "source": [
    "try:\n",
    "    f = open('myfile.txt', 'w')\n",
    "    for line in f:\n",
    "        print(line)\n",
    "except OSError as error:\n",
    "    print('出错啦!%s' % str(error))\n",
    "finally:\n",
    "    f.close()\n",
    "# 这段代码执行完毕后，就算在处理过程中出问题了，文件 f 总是会关闭"
   ]
  },
  {
   "cell_type": "code",
   "execution_count": 25,
   "metadata": {},
   "outputs": [
    {
     "ename": "TypeError",
     "evalue": "'str' object is not callable",
     "output_type": "error",
     "traceback": [
      "\u001b[1;31m---------------------------------------------------------------------------\u001b[0m",
      "\u001b[1;31mUnsupportedOperation\u001b[0m                      Traceback (most recent call last)",
      "\u001b[1;32m<ipython-input-25-bb10ef781dc1>\u001b[0m in \u001b[0;36m<module>\u001b[1;34m\u001b[0m\n\u001b[0;32m      2\u001b[0m     \u001b[1;32mwith\u001b[0m \u001b[0mopen\u001b[0m\u001b[1;33m(\u001b[0m\u001b[1;34m'myfile.txt'\u001b[0m\u001b[1;33m,\u001b[0m \u001b[1;34m'w'\u001b[0m\u001b[1;33m)\u001b[0m \u001b[1;32mas\u001b[0m \u001b[0mf\u001b[0m\u001b[1;33m:\u001b[0m\u001b[1;33m\u001b[0m\u001b[1;33m\u001b[0m\u001b[0m\n\u001b[1;32m----> 3\u001b[1;33m         \u001b[1;32mfor\u001b[0m \u001b[0mline\u001b[0m \u001b[1;32min\u001b[0m \u001b[0mf\u001b[0m\u001b[1;33m:\u001b[0m\u001b[1;33m\u001b[0m\u001b[1;33m\u001b[0m\u001b[0m\n\u001b[0m\u001b[0;32m      4\u001b[0m             \u001b[0mprint\u001b[0m\u001b[1;33m(\u001b[0m\u001b[0mline\u001b[0m\u001b[1;33m)\u001b[0m\u001b[1;33m\u001b[0m\u001b[1;33m\u001b[0m\u001b[0m\n",
      "\u001b[1;31mUnsupportedOperation\u001b[0m: not readable",
      "\nDuring handling of the above exception, another exception occurred:\n",
      "\u001b[1;31mTypeError\u001b[0m                                 Traceback (most recent call last)",
      "\u001b[1;32m<ipython-input-25-bb10ef781dc1>\u001b[0m in \u001b[0;36m<module>\u001b[1;34m\u001b[0m\n\u001b[0;32m      4\u001b[0m             \u001b[0mprint\u001b[0m\u001b[1;33m(\u001b[0m\u001b[0mline\u001b[0m\u001b[1;33m)\u001b[0m\u001b[1;33m\u001b[0m\u001b[1;33m\u001b[0m\u001b[0m\n\u001b[0;32m      5\u001b[0m \u001b[1;32mexcept\u001b[0m \u001b[0mOSError\u001b[0m \u001b[1;32mas\u001b[0m \u001b[0merror\u001b[0m\u001b[1;33m:\u001b[0m\u001b[1;33m\u001b[0m\u001b[1;33m\u001b[0m\u001b[0m\n\u001b[1;32m----> 6\u001b[1;33m     \u001b[0mprint\u001b[0m\u001b[1;33m(\u001b[0m\u001b[1;34m'出错啦!%s'\u001b[0m \u001b[1;33m%\u001b[0m \u001b[0mstr\u001b[0m\u001b[1;33m(\u001b[0m\u001b[0merror\u001b[0m\u001b[1;33m)\u001b[0m\u001b[1;33m)\u001b[0m\u001b[1;33m\u001b[0m\u001b[1;33m\u001b[0m\u001b[0m\n\u001b[0m",
      "\u001b[1;31mTypeError\u001b[0m: 'str' object is not callable"
     ]
    }
   ],
   "source": [
    "try:\n",
    "    with open('myfile.txt', 'w') as f:\n",
    "        for line in f:\n",
    "            print(line)\n",
    "except OSError as error:\n",
    "    print('出错啦!%s' % str(error))"
   ]
  },
  {
   "cell_type": "markdown",
   "metadata": {},
   "source": [
    "### OS 模块中关于文件/目录常用的函数\n",
    "\n",
    "我们所知道常用的操作系统就有：Windows，Mac OS，Linu，Unix等，这些操作系统底层对于文件系统的访问工作原理是不一样的，因此你可能就要针对不同的系统来考虑使用哪些文件系统模块……，这样的做法是非常不友好且麻烦的，因为这样就意味着当你的程序运行环境一改变，你就要相应的去修改大量的代码来应对。\n",
    "\n",
    "有了OS（Operation System）模块，我们不需要关心什么操作系统下使用什么模块，OS模块会帮你选择正确的模块并调用。\n",
    "- <code>os.getcwd()</code>用于返回当前工作目录。\n",
    "- <code>os.chdir(path)</code>用于改变当前工作目录到指定的路径。\n"
   ]
  },
  {
   "cell_type": "code",
   "execution_count": null,
   "metadata": {},
   "outputs": [],
   "source": []
  }
 ],
 "metadata": {
  "kernelspec": {
   "display_name": "Python 3",
   "language": "python",
   "name": "python3"
  },
  "language_info": {
   "codemirror_mode": {
    "name": "ipython",
    "version": 3
   },
   "file_extension": ".py",
   "mimetype": "text/x-python",
   "name": "python",
   "nbconvert_exporter": "python",
   "pygments_lexer": "ipython3",
   "version": "3.7.6"
  },
  "toc": {
   "base_numbering": 1,
   "nav_menu": {},
   "number_sections": true,
   "sideBar": true,
   "skip_h1_title": false,
   "title_cell": "Table of Contents",
   "title_sidebar": "Contents",
   "toc_cell": false,
   "toc_position": {},
   "toc_section_display": true,
   "toc_window_display": false
  }
 },
 "nbformat": 4,
 "nbformat_minor": 4
}
