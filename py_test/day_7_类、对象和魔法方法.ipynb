{
 "cells": [
  {
   "cell_type": "markdown",
   "metadata": {},
   "source": [
    "# 类与对象\n",
    "### 对象 = 属性 + 方法\n",
    "对象是类的实例。换句话说，类主要定义对象的结构，然后我们以类为模板创建对象。类不但包含方法定义，而且还包含所有实例共享的数据\n",
    "- **封装**：信息隐蔽技术  \n",
    "\n",
    "我们可以使用关键字 <code>class</code> 定义 Python 类，关键字后面紧跟类的名称、分号和类的实现"
   ]
  },
  {
   "cell_type": "code",
   "execution_count": 1,
   "metadata": {
    "code_folding": []
   },
   "outputs": [
    {
     "name": "stdout",
     "output_type": "stream",
     "text": [
      "<__main__.Turtle object at 0x000001AE5461F348>\n",
      "<class '__main__.Turtle'>\n",
      "<class '__main__.Turtle'>\n",
      "Turtle\n",
      "我正在很努力的向前爬...\n",
      "我正在飞快的向前跑...\n",
      "咬死你咬死你!!\n",
      "<class 'type'>\n"
     ]
    }
   ],
   "source": [
    "class Turtle:  # Python中的类名约定以大写字母开头\n",
    "    \"\"\"关于类的一个简单例子\"\"\"\n",
    "    # 属性\n",
    "    color = 'green'\n",
    "    weight = 10\n",
    "    legs = 4\n",
    "    shell = True\n",
    "    mouth = '大嘴'\n",
    "\n",
    "    # 方法\n",
    "    def climb(self):\n",
    "        print('我正在很努力的向前爬...')\n",
    "\n",
    "    def run(self):\n",
    "        print('我正在飞快的向前跑...')\n",
    "\n",
    "    def bite(self):\n",
    "        print('咬死你咬死你!!')\n",
    "\n",
    "    def eat(self):\n",
    "        print('有得吃，真满足...')\n",
    "\n",
    "    def sleep(self):\n",
    "        print('困了，睡了，晚安，zzz')\n",
    "\n",
    "\n",
    "tt = Turtle()\n",
    "print(tt)\n",
    "# <__main__.Turtle object at 0x0000007C32D67F98>\n",
    "\n",
    "print(type(tt))\n",
    "# <class '__main__.Turtle'>\n",
    "\n",
    "print(tt.__class__)\n",
    "# <class '__main__.Turtle'>\n",
    "\n",
    "print(tt.__class__.__name__)\n",
    "# Turtle\n",
    "\n",
    "tt.climb()\n",
    "# 我正在很努力的向前爬...\n",
    "\n",
    "tt.run()\n",
    "# 我正在飞快的向前跑...\n",
    "\n",
    "tt.bite()\n",
    "# 咬死你咬死你!!\n",
    "\n",
    "# Python类也是对象，它们是type的实例\n",
    "print(type(Turtle))\n",
    "# <class 'type'>"
   ]
  },
  {
   "cell_type": "markdown",
   "metadata": {},
   "source": [
    "- **继承**：子类自动共享父类之间数据和方法的机制"
   ]
  },
  {
   "cell_type": "code",
   "execution_count": 2,
   "metadata": {},
   "outputs": [
    {
     "name": "stdout",
     "output_type": "stream",
     "text": [
      "[1, 2, 5, 7, 8, 9]\n"
     ]
    }
   ],
   "source": [
    "class MyList(list):\n",
    "    pass\n",
    "\n",
    "lst = MyList([1, 5, 2, 7, 8])\n",
    "lst.append(9)\n",
    "lst.sort()\n",
    "print(lst)"
   ]
  },
  {
   "cell_type": "markdown",
   "metadata": {},
   "source": [
    "- **多态**：不同对象对同一方法响应不同的行动"
   ]
  },
  {
   "cell_type": "code",
   "execution_count": 3,
   "metadata": {},
   "outputs": [
    {
     "name": "stdout",
     "output_type": "stream",
     "text": [
      "pig is walking\n"
     ]
    }
   ],
   "source": [
    "class Animal:\n",
    "    def run(self):\n",
    "        raise AttributeError('子类必须实现这个方法')\n",
    "\n",
    "class People(Animal):\n",
    "    def run(self):\n",
    "        print('人正在走')\n",
    "\n",
    "class Pig(Animal):\n",
    "    def run(self):\n",
    "        print('pig is walking')\n",
    "\n",
    "class Dog(Animal):\n",
    "    def run(self):\n",
    "        print('dog is running')\n",
    "\n",
    "def func(animal):\n",
    "    animal.run()\n",
    "\n",
    "func(Pig())"
   ]
  },
  {
   "cell_type": "markdown",
   "metadata": {},
   "source": [
    "### self \n",
    "Python 的 <code>self</code> 相当于 C++ 的 <code>this</code> 指针"
   ]
  },
  {
   "cell_type": "code",
   "execution_count": 4,
   "metadata": {},
   "outputs": [
    {
     "name": "stdout",
     "output_type": "stream",
     "text": [
      "<__main__.Test object at 0x000001AE5461FF88>\n",
      "<class '__main__.Test'>\n"
     ]
    }
   ],
   "source": [
    "class Test:\n",
    "    def prt(self):\n",
    "        print(self)\n",
    "        print(self.__class__)\n",
    "\n",
    "t = Test()\n",
    "t.prt()"
   ]
  },
  {
   "cell_type": "markdown",
   "metadata": {},
   "source": [
    "类的方法与普通的函数只有一个特别的区别 —— 它们必须有一个额外的第一个参数名称（对应于该实例，即该对象本身），按照惯例它的名称是 <code>self</code>。在调用方法时，我们无需明确提供与参数 <code>self</code> 相对应的参数"
   ]
  },
  {
   "cell_type": "code",
   "execution_count": 5,
   "metadata": {},
   "outputs": [
    {
     "name": "stdout",
     "output_type": "stream",
     "text": [
      "我叫球A,该死的，谁踢我...\n",
      "我叫球B,该死的，谁踢我...\n"
     ]
    }
   ],
   "source": [
    "class Ball:\n",
    "    def setName(self, name):\n",
    "        self.name = name\n",
    "\n",
    "    def kick(self):\n",
    "        print(\"我叫%s,该死的，谁踢我...\" % self.name)\n",
    "\n",
    "a = Ball()\n",
    "a.setName(\"球A\")\n",
    "b = Ball()\n",
    "b.setName(\"球B\")\n",
    "c = Ball()\n",
    "c.setName(\"球C\")\n",
    "a.kick()\n",
    "# 我叫球A,该死的，谁踢我...\n",
    "b.kick()\n",
    "# 我叫球B,该死的，谁踢我..."
   ]
  },
  {
   "cell_type": "markdown",
   "metadata": {},
   "source": [
    "### Python 的魔法方法\n",
    "据说，Python 的对象天生拥有一些神奇的方法，它们是面向对象的 Python 的一切...\n",
    "\n",
    "它们是可以给你的类增加魔力的特殊方法...\n",
    "\n",
    "如果你的对象实现了这些方法中的某一个，那么这个方法就会在特殊的情况下被 Python 所调用，而这一切都是自动发生的...\n",
    "\n",
    "类有一个名为<code> \\_\\_init__ (self[, param1, param2...])</code>的魔法方法，该方法在类实例化时会自动调用"
   ]
  },
  {
   "cell_type": "code",
   "execution_count": 6,
   "metadata": {},
   "outputs": [
    {
     "name": "stdout",
     "output_type": "stream",
     "text": [
      "我叫球A,该死的，谁踢我...\n",
      "我叫球B,该死的，谁踢我...\n"
     ]
    }
   ],
   "source": [
    "class Ball:\n",
    "    def __init__(self, name):\n",
    "        self.name = name\n",
    "\n",
    "    def kick(self):\n",
    "        print(\"我叫%s,该死的，谁踢我...\" % self.name)\n",
    "\n",
    "\n",
    "a = Ball(\"球A\")\n",
    "b = Ball(\"球B\")\n",
    "c = Ball(\"球C\")\n",
    "a.kick()\n",
    "# 我叫球A,该死的，谁踢我...\n",
    "b.kick()\n",
    "# 我叫球B,该死的，谁踢我..."
   ]
  },
  {
   "cell_type": "markdown",
   "metadata": {},
   "source": [
    "### 公有和私有\n",
    "在 Python 中定义私有变量只需要在变量名或函数名前加上“\\_\\_”两个下划线，那么这个函数或变量就会为私有的了"
   ]
  },
  {
   "cell_type": "code",
   "execution_count": 7,
   "metadata": {},
   "outputs": [
    {
     "name": "stdout",
     "output_type": "stream",
     "text": [
      "1\n",
      "2\n",
      "2\n",
      "2\n"
     ]
    },
    {
     "ename": "AttributeError",
     "evalue": "'JustCounter' object has no attribute '__secretCount'",
     "output_type": "error",
     "traceback": [
      "\u001b[1;31m---------------------------------------------------------------------------\u001b[0m",
      "\u001b[1;31mAttributeError\u001b[0m                            Traceback (most recent call last)",
      "\u001b[1;32m<ipython-input-7-69148c33b6e3>\u001b[0m in \u001b[0;36m<module>\u001b[1;34m\u001b[0m\n\u001b[0;32m     14\u001b[0m \u001b[1;33m\u001b[0m\u001b[0m\n\u001b[0;32m     15\u001b[0m \u001b[0mprint\u001b[0m\u001b[1;33m(\u001b[0m\u001b[0mcounter\u001b[0m\u001b[1;33m.\u001b[0m\u001b[0m_JustCounter__secretCount\u001b[0m\u001b[1;33m)\u001b[0m  \u001b[1;31m# 2 Python的私有为伪私有\u001b[0m\u001b[1;33m\u001b[0m\u001b[1;33m\u001b[0m\u001b[0m\n\u001b[1;32m---> 16\u001b[1;33m \u001b[0mprint\u001b[0m\u001b[1;33m(\u001b[0m\u001b[0mcounter\u001b[0m\u001b[1;33m.\u001b[0m\u001b[0m__secretCount\u001b[0m\u001b[1;33m)\u001b[0m\u001b[1;33m\u001b[0m\u001b[1;33m\u001b[0m\u001b[0m\n\u001b[0m\u001b[0;32m     17\u001b[0m \u001b[1;31m# AttributeError: 'JustCounter' object has no attribute '__secretCount'\u001b[0m\u001b[1;33m\u001b[0m\u001b[1;33m\u001b[0m\u001b[1;33m\u001b[0m\u001b[0m\n",
      "\u001b[1;31mAttributeError\u001b[0m: 'JustCounter' object has no attribute '__secretCount'"
     ]
    }
   ],
   "source": [
    "class JustCounter:\n",
    "    __secretCount = 0  # 私有变量\n",
    "    publicCount = 0  # 公开变量\n",
    "\n",
    "    def count(self):\n",
    "        self.__secretCount += 1\n",
    "        self.publicCount += 1\n",
    "        print(self.__secretCount)\n",
    "\n",
    "counter = JustCounter()\n",
    "counter.count()  # 1\n",
    "counter.count()  # 2\n",
    "print(counter.publicCount)  # 2\n",
    "\n",
    "print(counter._JustCounter__secretCount)  # 2 Python的私有为伪私有\n",
    "print(counter.__secretCount)  \n",
    "# AttributeError: 'JustCounter' object has no attribute '__secretCount'"
   ]
  },
  {
   "cell_type": "code",
   "execution_count": 9,
   "metadata": {},
   "outputs": [
    {
     "name": "stdout",
     "output_type": "stream",
     "text": [
      "name  :  老马的程序人生\n",
      "url :  https://blog.csdn.net/LSGO_MYP\n",
      "这是公共方法\n",
      "这是私有方法\n"
     ]
    },
    {
     "ename": "AttributeError",
     "evalue": "'Site' object has no attribute '__foo'",
     "output_type": "error",
     "traceback": [
      "\u001b[1;31m---------------------------------------------------------------------------\u001b[0m",
      "\u001b[1;31mAttributeError\u001b[0m                            Traceback (most recent call last)",
      "\u001b[1;32m<ipython-input-9-555cf676b575>\u001b[0m in \u001b[0;36m<module>\u001b[1;34m\u001b[0m\n\u001b[0;32m     25\u001b[0m \u001b[1;31m# 这是私有方法\u001b[0m\u001b[1;33m\u001b[0m\u001b[1;33m\u001b[0m\u001b[1;33m\u001b[0m\u001b[0m\n\u001b[0;32m     26\u001b[0m \u001b[1;33m\u001b[0m\u001b[0m\n\u001b[1;32m---> 27\u001b[1;33m \u001b[0mx\u001b[0m\u001b[1;33m.\u001b[0m\u001b[0m__foo\u001b[0m\u001b[1;33m(\u001b[0m\u001b[1;33m)\u001b[0m\u001b[1;33m\u001b[0m\u001b[1;33m\u001b[0m\u001b[0m\n\u001b[0m\u001b[0;32m     28\u001b[0m \u001b[1;31m# AttributeError: 'Site' object has no attribute '__foo'\u001b[0m\u001b[1;33m\u001b[0m\u001b[1;33m\u001b[0m\u001b[1;33m\u001b[0m\u001b[0m\n",
      "\u001b[1;31mAttributeError\u001b[0m: 'Site' object has no attribute '__foo'"
     ]
    }
   ],
   "source": [
    "class Site:\n",
    "    def __init__(self, name, url):\n",
    "        self.name = name  # public\n",
    "        self.__url = url  # private\n",
    "\n",
    "    def who(self):\n",
    "        print('name  : ', self.name)\n",
    "        print('url : ', self.__url)\n",
    "\n",
    "    def __foo(self):  # 私有方法\n",
    "        print('这是私有方法')\n",
    "\n",
    "    def foo(self):  # 公共方法\n",
    "        print('这是公共方法')\n",
    "        self.__foo()\n",
    "\n",
    "\n",
    "x = Site('老马的程序人生', 'https://blog.csdn.net/LSGO_MYP')\n",
    "x.who()\n",
    "# name  :  老马的程序人生\n",
    "# url :  https://blog.csdn.net/LSGO_MYP\n",
    "\n",
    "x.foo()\n",
    "# 这是公共方法\n",
    "# 这是私有方法\n",
    "\n",
    "x.__foo()\n",
    "# AttributeError: 'Site' object has no attribute '__foo'"
   ]
  },
  {
   "cell_type": "markdown",
   "metadata": {},
   "source": [
    "### 继承\n",
    "Python 同样支持类的继承，派生类的定义如下所示：   \n",
    "<code>class DerivedClassName(BaseClassName):\n",
    "        \\< statement-1 \\>  \n",
    "        .\n",
    "        .\n",
    "        .\n",
    "        \\< statement-N >    \n",
    "</code>\n",
    "            \n",
    "<code>BaseClassName</code>（示例中的基类名）必须与派生类定义在一个作用域内。除了类，还可以用表达式，基类定义在另一个模块中时这一点非常有用：  \n",
    "<code>class DerivedClassName(modname.BaseClassName):\n",
    "    \\< statement-1 >\n",
    "    .\n",
    "    .\n",
    "    .\n",
    "    \\< statement-N >\n",
    "</code>\n",
    "如果子类中定义与父类同名的方法或属性，则会自动覆盖父类对应的方法或属性"
   ]
  },
  {
   "cell_type": "code",
   "execution_count": 10,
   "metadata": {},
   "outputs": [
    {
     "name": "stdout",
     "output_type": "stream",
     "text": [
      "小马的程序人生 说: 我 10 岁了，我在读 3 年级\n"
     ]
    }
   ],
   "source": [
    "# 类定义\n",
    "class people:\n",
    "    # 定义基本属性\n",
    "    name = ''\n",
    "    age = 0\n",
    "    # 定义私有属性,私有属性在类外部无法直接进行访问\n",
    "    __weight = 0\n",
    "\n",
    "    # 定义构造方法\n",
    "    def __init__(self, n, a, w):\n",
    "        self.name = n\n",
    "        self.age = a\n",
    "        self.__weight = w\n",
    "\n",
    "    def speak(self):\n",
    "        print(\"%s 说: 我 %d 岁。\" % (self.name, self.age))\n",
    "\n",
    "\n",
    "# 单继承示例\n",
    "class student(people):\n",
    "    grade = ''\n",
    "\n",
    "    def __init__(self, n, a, w, g):\n",
    "        # 调用父类的构函\n",
    "        people.__init__(self, n, a, w)\n",
    "        self.grade = g\n",
    "\n",
    "    # 覆写父类的方法\n",
    "    def speak(self):\n",
    "        print(\"%s 说: 我 %d 岁了，我在读 %d 年级\" % (self.name, self.age, self.grade))\n",
    "\n",
    "\n",
    "s = student('小马的程序人生', 10, 60, 3)\n",
    "s.speak()\n",
    "# 小马的程序人生 说: 我 10 岁了，我在读 3 年级"
   ]
  },
  {
   "cell_type": "markdown",
   "metadata": {},
   "source": [
    "如果上面的程序去掉：<code>people.\\__init__(self, n, a, w)</code>，则输出：<code> 说: 我 0 岁了，我在读 3 年级</code>，因为子类的构造方法把父类的构造方法覆盖了"
   ]
  },
  {
   "cell_type": "code",
   "execution_count": 11,
   "metadata": {},
   "outputs": [
    {
     "name": "stdout",
     "output_type": "stream",
     "text": [
      "我的位置 6 3\n",
      "吃货的梦想就是天天有得吃！\n"
     ]
    },
    {
     "ename": "AttributeError",
     "evalue": "'Shark' object has no attribute 'x'",
     "output_type": "error",
     "traceback": [
      "\u001b[1;31m---------------------------------------------------------------------------\u001b[0m",
      "\u001b[1;31mAttributeError\u001b[0m                            Traceback (most recent call last)",
      "\u001b[1;32m<ipython-input-11-f795a471252a>\u001b[0m in \u001b[0;36m<module>\u001b[1;34m\u001b[0m\n\u001b[0;32m     40\u001b[0m \u001b[0ms\u001b[0m \u001b[1;33m=\u001b[0m \u001b[0mShark\u001b[0m\u001b[1;33m(\u001b[0m\u001b[1;33m)\u001b[0m\u001b[1;33m\u001b[0m\u001b[1;33m\u001b[0m\u001b[0m\n\u001b[0;32m     41\u001b[0m \u001b[0ms\u001b[0m\u001b[1;33m.\u001b[0m\u001b[0meat\u001b[0m\u001b[1;33m(\u001b[0m\u001b[1;33m)\u001b[0m \u001b[1;31m# 吃货的梦想就是天天有得吃！\u001b[0m\u001b[1;33m\u001b[0m\u001b[1;33m\u001b[0m\u001b[0m\n\u001b[1;32m---> 42\u001b[1;33m \u001b[0ms\u001b[0m\u001b[1;33m.\u001b[0m\u001b[0mmove\u001b[0m\u001b[1;33m(\u001b[0m\u001b[1;33m)\u001b[0m\u001b[1;33m\u001b[0m\u001b[1;33m\u001b[0m\u001b[0m\n\u001b[0m\u001b[0;32m     43\u001b[0m \u001b[1;31m# AttributeError: 'Shark' object has no attribute 'x'\u001b[0m\u001b[1;33m\u001b[0m\u001b[1;33m\u001b[0m\u001b[1;33m\u001b[0m\u001b[0m\n",
      "\u001b[1;32m<ipython-input-11-f795a471252a>\u001b[0m in \u001b[0;36mmove\u001b[1;34m(self)\u001b[0m\n\u001b[0;32m      7\u001b[0m \u001b[1;33m\u001b[0m\u001b[0m\n\u001b[0;32m      8\u001b[0m     \u001b[1;32mdef\u001b[0m \u001b[0mmove\u001b[0m\u001b[1;33m(\u001b[0m\u001b[0mself\u001b[0m\u001b[1;33m)\u001b[0m\u001b[1;33m:\u001b[0m\u001b[1;33m\u001b[0m\u001b[1;33m\u001b[0m\u001b[0m\n\u001b[1;32m----> 9\u001b[1;33m         \u001b[0mself\u001b[0m\u001b[1;33m.\u001b[0m\u001b[0mx\u001b[0m \u001b[1;33m-=\u001b[0m \u001b[1;36m1\u001b[0m\u001b[1;33m\u001b[0m\u001b[1;33m\u001b[0m\u001b[0m\n\u001b[0m\u001b[0;32m     10\u001b[0m         \u001b[0mprint\u001b[0m\u001b[1;33m(\u001b[0m\u001b[1;34m\"我的位置\"\u001b[0m\u001b[1;33m,\u001b[0m \u001b[0mself\u001b[0m\u001b[1;33m.\u001b[0m\u001b[0mx\u001b[0m\u001b[1;33m,\u001b[0m \u001b[0mself\u001b[0m\u001b[1;33m.\u001b[0m\u001b[0my\u001b[0m\u001b[1;33m)\u001b[0m\u001b[1;33m\u001b[0m\u001b[1;33m\u001b[0m\u001b[0m\n\u001b[0;32m     11\u001b[0m \u001b[1;33m\u001b[0m\u001b[0m\n",
      "\u001b[1;31mAttributeError\u001b[0m: 'Shark' object has no attribute 'x'"
     ]
    }
   ],
   "source": [
    "import random\n",
    "\n",
    "class Fish:\n",
    "    def __init__(self):\n",
    "        self.x = random.randint(0, 10)\n",
    "        self.y = random.randint(0, 10)\n",
    "\n",
    "    def move(self):\n",
    "        self.x -= 1\n",
    "        print(\"我的位置\", self.x, self.y)\n",
    "\n",
    "\n",
    "class GoldFish(Fish):  # 金鱼\n",
    "    pass\n",
    "\n",
    "\n",
    "class Carp(Fish):  # 鲤鱼\n",
    "    pass\n",
    "\n",
    "\n",
    "class Salmon(Fish):  # 三文鱼\n",
    "    pass\n",
    "\n",
    "\n",
    "class Shark(Fish):  # 鲨鱼\n",
    "    def __init__(self):\n",
    "        self.hungry = True\n",
    "\n",
    "    def eat(self):\n",
    "        if self.hungry:\n",
    "            print(\"吃货的梦想就是天天有得吃！\")\n",
    "            self.hungry = False\n",
    "        else:\n",
    "            print(\"太撑了，吃不下了！\")\n",
    "            self.hungry = True\n",
    "\n",
    "\n",
    "g = GoldFish()\n",
    "g.move()  # 我的位置 9 4\n",
    "s = Shark()\n",
    "s.eat() # 吃货的梦想就是天天有得吃！\n",
    "s.move()  \n",
    "# AttributeError: 'Shark' object has no attribute 'x'"
   ]
  },
  {
   "cell_type": "markdown",
   "metadata": {},
   "source": [
    "解决该问题可用以下两种方式：\n",
    "- 调用未绑定的父类方法<code>Fish.\\__init__(self)</code>"
   ]
  },
  {
   "cell_type": "code",
   "execution_count": 12,
   "metadata": {},
   "outputs": [],
   "source": [
    "class Shark(Fish):  # 鲨鱼\n",
    "    def __init__(self):\n",
    "        Fish.__init__(self)\n",
    "        self.hungry = True\n",
    "\n",
    "    def eat(self):\n",
    "        if self.hungry:\n",
    "            print(\"吃货的梦想就是天天有得吃！\")\n",
    "            self.hungry = False\n",
    "        else:\n",
    "            print(\"太撑了，吃不下了！\")\n",
    "            self.hungry = True"
   ]
  },
  {
   "cell_type": "markdown",
   "metadata": {},
   "source": [
    "- 使用super函数<code>super().\\__init__()</code>"
   ]
  },
  {
   "cell_type": "code",
   "execution_count": 13,
   "metadata": {},
   "outputs": [],
   "source": [
    "class Shark(Fish):  # 鲨鱼\n",
    "    def __init__(self):\n",
    "        super().__init__()\n",
    "        self.hungry = True\n",
    "\n",
    "    def eat(self):\n",
    "        if self.hungry:\n",
    "            print(\"吃货的梦想就是天天有得吃！\")\n",
    "            self.hungry = False\n",
    "        else:\n",
    "            print(\"太撑了，吃不下了！\")\n",
    "            self.hungry = True"
   ]
  },
  {
   "cell_type": "markdown",
   "metadata": {},
   "source": [
    "Python 虽然支持多继承的形式，但我们一般不使用多继承，因为容易引起混乱  \n",
    "<code>class DerivedClassName(Base1, Base2, Base3):\n",
    "    \\< statement-1 >\n",
    "    .\n",
    "    .\n",
    "    .\n",
    "    \\< statement-N >\n",
    "</code>\n",
    "    \n",
    "需要注意圆括号中父类的顺序，若是父类中有相同的方法名，而在子类使用时未指定，Python 从左至右搜索，即方法在子类中未找到时，从左到右查找父类中是否包含方法"
   ]
  },
  {
   "cell_type": "code",
   "execution_count": 14,
   "metadata": {},
   "outputs": [
    {
     "name": "stdout",
     "output_type": "stream",
     "text": [
      "我叫 Tim，我是一个演说家，我演讲的主题是 Python\n",
      "Tim 说: 我 25 岁了，我在读 4 年级\n"
     ]
    }
   ],
   "source": [
    "# 类定义\n",
    "class People:\n",
    "    # 定义基本属性\n",
    "    name = ''\n",
    "    age = 0\n",
    "    # 定义私有属性,私有属性在类外部无法直接进行访问\n",
    "    __weight = 0\n",
    "\n",
    "    # 定义构造方法\n",
    "    def __init__(self, n, a, w):\n",
    "        self.name = n\n",
    "        self.age = a\n",
    "        self.__weight = w\n",
    "\n",
    "    def speak(self):\n",
    "        print(\"%s 说: 我 %d 岁。\" % (self.name, self.age))\n",
    "\n",
    "\n",
    "# 单继承示例\n",
    "class Student(People):\n",
    "    grade = ''\n",
    "\n",
    "    def __init__(self, n, a, w, g):\n",
    "        # 调用父类的构函\n",
    "        People.__init__(self, n, a, w)\n",
    "        self.grade = g\n",
    "\n",
    "    # 覆写父类的方法\n",
    "    def speak(self):\n",
    "        print(\"%s 说: 我 %d 岁了，我在读 %d 年级\" % (self.name, self.age, self.grade))\n",
    "\n",
    "\n",
    "# 另一个类，多重继承之前的准备\n",
    "class Speaker:\n",
    "    topic = ''\n",
    "    name = ''\n",
    "\n",
    "    def __init__(self, n, t):\n",
    "        self.name = n\n",
    "        self.topic = t\n",
    "\n",
    "    def speak(self):\n",
    "        print(\"我叫 %s，我是一个演说家，我演讲的主题是 %s\" % (self.name, self.topic))\n",
    "\n",
    "\n",
    "# 多重继承\n",
    "class Sample01(Speaker, Student):\n",
    "    a = ''\n",
    "\n",
    "    def __init__(self, n, a, w, g, t):\n",
    "        Student.__init__(self, n, a, w, g)\n",
    "        Speaker.__init__(self, n, t)\n",
    "\n",
    "# 方法名同，默认调用的是在括号中排前地父类的方法\n",
    "test = Sample01(\"Tim\", 25, 80, 4, \"Python\")\n",
    "test.speak()  \n",
    "# 我叫 Tim，我是一个演说家，我演讲的主题是 Python\n",
    "\n",
    "class Sample02(Student, Speaker):\n",
    "    a = ''\n",
    "\n",
    "    def __init__(self, n, a, w, g, t):\n",
    "        Student.__init__(self, n, a, w, g)\n",
    "        Speaker.__init__(self, n, t)\n",
    "\n",
    "# 方法名同，默认调用的是在括号中排前地父类的方法\n",
    "test = Sample02(\"Tim\", 25, 80, 4, \"Python\")\n",
    "test.speak()  \n",
    "# Tim 说: 我 25 岁了，我在读 4 年级"
   ]
  },
  {
   "cell_type": "markdown",
   "metadata": {},
   "source": [
    "### 组合"
   ]
  },
  {
   "cell_type": "code",
   "execution_count": 15,
   "metadata": {},
   "outputs": [
    {
     "name": "stdout",
     "output_type": "stream",
     "text": [
      "水池里面有乌龟2只，小鱼3条\n"
     ]
    }
   ],
   "source": [
    "class Turtle:\n",
    "    def __init__(self, x):\n",
    "        self.num = x\n",
    "\n",
    "\n",
    "class Fish:\n",
    "    def __init__(self, x):\n",
    "        self.num = x\n",
    "\n",
    "\n",
    "class Pool:\n",
    "    def __init__(self, x, y):\n",
    "        self.turtle = Turtle(x)\n",
    "        self.fish = Fish(y)\n",
    "\n",
    "    def print_num(self):\n",
    "        print(\"水池里面有乌龟%s只，小鱼%s条\" % (self.turtle.num, self.fish.num))\n",
    "\n",
    "\n",
    "p = Pool(2, 3)\n",
    "p.print_num()\n",
    "# 水池里面有乌龟2只，小鱼3条"
   ]
  },
  {
   "cell_type": "markdown",
   "metadata": {},
   "source": [
    "### 类、类对象和实例对象\n",
    "**类对象**：创建一个类，其实也是一个对象也在内存开辟了一块空间，称为类对象，类对象只有一个  \n",
    "<code># 类对象\n",
    "class A(object):\n",
    "    pass\n",
    "</code>\n",
    "**实例对象**：就是通过实例化类创建的对象，称为实例对象，实例对象可以有多个  \n",
    "<code># 实例化对象 a、b、c都属于实例对象。\n",
    "a = A()\n",
    "b = A()\n",
    "c = A()\n",
    "</code>\n",
    "**类属性**：类里面方法外面定义的变量称为类属性。类属性所属于类对象并且多个实例对象之间共享同一个类属性，说白了就是类属性所有的通过该类实例化的对象都能共享  \n",
    "<code>class A():\n",
    "    a = 0  # 类属性\n",
    "    def \\__init__(self, xx):\n",
    "        \\# 使用类属性可以通过 （类名.类属性）调用。\n",
    "        A.a = xx\n",
    "</code>\n",
    "\n",
    "**实例属性**：实例属性和具体的某个实例对象有关系，并且一个实例对象和另外一个实例对象是不共享属性的，说白了实例属性只能在自己的对象里面使用，其他的对象不能直接使用，因为<code>self</code>是谁调用，它的值就属于该对象  \n",
    "\n",
    "<code>class 类名():\n",
    "    \\__init__(self)：\n",
    "        self.name = xx #实例属性\n",
    "</code>\n",
    "\n",
    "类属性和实例属性区别  \n",
    "- 类属性：类外面，可以通过实例<code>对象.类属性</code>和<code>类名.类属性</code>进行调用。类里面，通过<code>self.类属性</code>和<code>类名.类属性</code>进行调用。\n",
    "- 实例属性 ：类外面，可以通过实例<code>对象.实例属性</code>调用。类里面，通过<code>self.实例属性</code>调用。\n",
    "- 实例属性就相当于局部变量。出了这个类或者这个类的实例对象，就没有作用了。\n",
    "- 类属性就相当于类里面的全局变量，可以和这个类的所有实例对象共享"
   ]
  },
  {
   "cell_type": "code",
   "execution_count": 16,
   "metadata": {},
   "outputs": [
    {
     "name": "stdout",
     "output_type": "stream",
     "text": [
      "类对象.类属性的值: 100\n",
      "self.类属性的值 100\n",
      "self.实例属性的值 100\n",
      "类对象.类属性的值: 100\n",
      "self.类属性的值 100\n",
      "self.实例属性的值 100\n",
      "类对象.类属性的值: 100\n",
      "self.类属性的值 200\n",
      "self.实例属性的值 200\n",
      "类对象.类属性的值: 100\n",
      "self.类属性的值 100\n",
      "self.实例属性的值 100\n",
      "类对象.类属性的值: 300\n",
      "self.类属性的值 200\n",
      "self.实例属性的值 200\n",
      "类对象.类属性的值: 300\n",
      "self.类属性的值 300\n",
      "self.实例属性的值 100\n"
     ]
    }
   ],
   "source": [
    "# 创建类对象\n",
    "class Test(object):\n",
    "    class_attr = 100  # 类属性\n",
    "\n",
    "    def __init__(self):\n",
    "        self.sl_attr = 100  # 实例属性\n",
    "\n",
    "    def func(self):\n",
    "        print('类对象.类属性的值:', Test.class_attr)  # 调用类属性\n",
    "        print('self.类属性的值', self.class_attr)  # 相当于把类属性 变成实例属性\n",
    "        print('self.实例属性的值', self.sl_attr)  # 调用实例属性\n",
    "\n",
    "\n",
    "a = Test()\n",
    "a.func()\n",
    "\n",
    "# 类对象.类属性的值: 100\n",
    "# self.类属性的值 100\n",
    "# self.实例属性的值 100\n",
    "\n",
    "b = Test()\n",
    "b.func()\n",
    "\n",
    "# 类对象.类属性的值: 100\n",
    "# self.类属性的值 100\n",
    "# self.实例属性的值 100\n",
    "\n",
    "a.class_attr = 200\n",
    "a.sl_attr = 200\n",
    "a.func()\n",
    "\n",
    "# 类对象.类属性的值: 100\n",
    "# self.类属性的值 200\n",
    "# self.实例属性的值 200\n",
    "\n",
    "b.func()\n",
    "\n",
    "# 类对象.类属性的值: 100\n",
    "# self.类属性的值 100\n",
    "# self.实例属性的值 100\n",
    "\n",
    "Test.class_attr = 300\n",
    "a.func()\n",
    "\n",
    "# 类对象.类属性的值: 300\n",
    "# self.类属性的值 200\n",
    "# self.实例属性的值 200\n",
    "\n",
    "b.func()\n",
    "# 类对象.类属性的值: 300\n",
    "# self.类属性的值 300\n",
    "# self.实例属性的值 100"
   ]
  },
  {
   "cell_type": "markdown",
   "metadata": {},
   "source": [
    "**注意**：属性与方法名相同，属性会覆盖方法"
   ]
  },
  {
   "cell_type": "code",
   "execution_count": 17,
   "metadata": {},
   "outputs": [
    {
     "name": "stdout",
     "output_type": "stream",
     "text": [
      "x_man\n",
      "1\n"
     ]
    },
    {
     "ename": "TypeError",
     "evalue": "'int' object is not callable",
     "output_type": "error",
     "traceback": [
      "\u001b[1;31m---------------------------------------------------------------------------\u001b[0m",
      "\u001b[1;31mTypeError\u001b[0m                                 Traceback (most recent call last)",
      "\u001b[1;32m<ipython-input-17-6db89adc213b>\u001b[0m in \u001b[0;36m<module>\u001b[1;34m\u001b[0m\n\u001b[0;32m      8\u001b[0m \u001b[0maa\u001b[0m\u001b[1;33m.\u001b[0m\u001b[0mx\u001b[0m \u001b[1;33m=\u001b[0m \u001b[1;36m1\u001b[0m\u001b[1;33m\u001b[0m\u001b[1;33m\u001b[0m\u001b[0m\n\u001b[0;32m      9\u001b[0m \u001b[0mprint\u001b[0m\u001b[1;33m(\u001b[0m\u001b[0maa\u001b[0m\u001b[1;33m.\u001b[0m\u001b[0mx\u001b[0m\u001b[1;33m)\u001b[0m  \u001b[1;31m# 1\u001b[0m\u001b[1;33m\u001b[0m\u001b[1;33m\u001b[0m\u001b[0m\n\u001b[1;32m---> 10\u001b[1;33m \u001b[0maa\u001b[0m\u001b[1;33m.\u001b[0m\u001b[0mx\u001b[0m\u001b[1;33m(\u001b[0m\u001b[1;33m)\u001b[0m\u001b[1;33m\u001b[0m\u001b[1;33m\u001b[0m\u001b[0m\n\u001b[0m\u001b[0;32m     11\u001b[0m \u001b[1;31m# TypeError: 'int' object is not callable\u001b[0m\u001b[1;33m\u001b[0m\u001b[1;33m\u001b[0m\u001b[1;33m\u001b[0m\u001b[0m\n",
      "\u001b[1;31mTypeError\u001b[0m: 'int' object is not callable"
     ]
    }
   ],
   "source": [
    "class A:\n",
    "    def x(self):\n",
    "        print('x_man')\n",
    "\n",
    "\n",
    "aa = A()\n",
    "aa.x()  # x_man\n",
    "aa.x = 1\n",
    "print(aa.x)  # 1\n",
    "aa.x()\n",
    "# TypeError: 'int' object is not callable"
   ]
  },
  {
   "cell_type": "markdown",
   "metadata": {},
   "source": [
    "### 什么是绑定？\n",
    "Python 严格要求方法需要有实例才能被调用，这种限制其实就是 Python 所谓的绑定概念  \n",
    "\n",
    "Python 对象的数据属性通常存储在名为<code>.__ dict__</code>的字典中，我们可以直接访问<code>\\_\\_dict__</code>，或利用 Python 的内置函数<code>vars()</code>获取<code>.__ dict__</code>。"
   ]
  },
  {
   "cell_type": "code",
   "execution_count": 18,
   "metadata": {},
   "outputs": [
    {
     "name": "stdout",
     "output_type": "stream",
     "text": [
      "{}\n",
      "{}\n",
      "{'__module__': '__main__', 'setXY': <function CC.setXY at 0x000001AE55931D38>, 'printXY': <function CC.printXY at 0x000001AE5565B048>, '__dict__': <attribute '__dict__' of 'CC' objects>, '__weakref__': <attribute '__weakref__' of 'CC' objects>, '__doc__': None}\n",
      "{'x': 4, 'y': 5}\n",
      "{'__module__': '__main__', 'setXY': <function CC.setXY at 0x000001AE55931D38>, 'printXY': <function CC.printXY at 0x000001AE5565B048>, '__dict__': <attribute '__dict__' of 'CC' objects>, '__weakref__': <attribute '__weakref__' of 'CC' objects>, '__doc__': None}\n",
      "{'__module__': '__main__', 'setXY': <function CC.setXY at 0x000001AE55931D38>, 'printXY': <function CC.printXY at 0x000001AE5565B048>, '__dict__': <attribute '__dict__' of 'CC' objects>, '__weakref__': <attribute '__weakref__' of 'CC' objects>, '__doc__': None}\n"
     ]
    }
   ],
   "source": [
    "class CC:\n",
    "    def setXY(self, x, y):\n",
    "        self.x = x\n",
    "        self.y = y\n",
    "\n",
    "    def printXY(self):\n",
    "        print(self.x, self.y)\n",
    "\n",
    "\n",
    "dd = CC()\n",
    "print(dd.__dict__)\n",
    "# {}\n",
    "\n",
    "print(vars(dd))\n",
    "# {}\n",
    "\n",
    "print(CC.__dict__)\n",
    "# {'__module__': '__main__', 'setXY': <function CC.setXY at 0x000000C3473DA048>, 'printXY': <function CC.printXY at 0x000000C3473C4F28>, '__dict__': <attribute '__dict__' of 'CC' objects>, '__weakref__': <attribute '__weakref__' of 'CC' objects>, '__doc__': None}\n",
    "\n",
    "dd.setXY(4, 5)\n",
    "print(dd.__dict__)\n",
    "# {'x': 4, 'y': 5}\n",
    "\n",
    "print(vars(CC))\n",
    "# {'__module__': '__main__', 'setXY': <function CC.setXY at 0x000000632CA9B048>, 'printXY': <function CC.printXY at 0x000000632CA83048>, '__dict__': <attribute '__dict__' of 'CC' objects>, '__weakref__': <attribute '__weakref__' of 'CC' objects>, '__doc__': None}\n",
    "\n",
    "print(CC.__dict__)\n",
    "# {'__module__': '__main__', 'setXY': <function CC.setXY at 0x000000632CA9B048>, 'printXY': <function CC.printXY at 0x000000632CA83048>, '__dict__': <attribute '__dict__' of 'CC' objects>, '__weakref__': <attribute '__weakref__' of 'CC' objects>, '__doc__': None}"
   ]
  },
  {
   "cell_type": "markdown",
   "metadata": {},
   "source": [
    "### 一些相关的内置函数（BIF）\n",
    "- <code>issubclass(class, classinfo)</code> 方法用于判断参数 class 是否是类型参数 classinfo 的子类\n",
    "- 一个类被认为是其自身的子类\n",
    "- <code>classinfo</code>可以是类对象的元组，只要class是其中任何一个候选类的子类，则返回<code>True</code>"
   ]
  },
  {
   "cell_type": "code",
   "execution_count": 19,
   "metadata": {},
   "outputs": [
    {
     "name": "stdout",
     "output_type": "stream",
     "text": [
      "True\n",
      "True\n",
      "False\n",
      "True\n"
     ]
    }
   ],
   "source": [
    "class A:\n",
    "    pass\n",
    "\n",
    "class B(A):\n",
    "    pass\n",
    "\n",
    "print(issubclass(B, A))  # True\n",
    "print(issubclass(B, B))  # True\n",
    "print(issubclass(A, B))  # False\n",
    "print(issubclass(B, object))  # True"
   ]
  },
  {
   "cell_type": "markdown",
   "metadata": {},
   "source": [
    "- <code>isinstance(object, classinfo)</code> 方法用于判断一个对象是否是一个已知的类型，类似<code>type()</code>\n",
    "- <code>type()</code>不会认为子类是一种父类类型，不考虑继承关系\n",
    "- <code>isinstance()</code>会认为子类是一种父类类型，考虑继承关系\n",
    "- 如果第一个参数不是对象，则永远返回<code>False</code>\n",
    "- 如果第二个参数不是类或者由类对象组成的元组，会抛出一个<code>TypeError</code>异常"
   ]
  },
  {
   "cell_type": "code",
   "execution_count": 20,
   "metadata": {},
   "outputs": [
    {
     "name": "stdout",
     "output_type": "stream",
     "text": [
      "True\n",
      "False\n",
      "True\n",
      "True\n",
      "True\n",
      "True\n",
      "False\n"
     ]
    }
   ],
   "source": [
    "a = 2\n",
    "print(isinstance(a, int))  # True\n",
    "print(isinstance(a, str))  # False\n",
    "print(isinstance(a, (str, int, list)))  # True\n",
    "\n",
    "class A:\n",
    "    pass\n",
    "\n",
    "class B(A):\n",
    "    pass\n",
    "\n",
    "print(isinstance(A(), A))  # True\n",
    "print(type(A()) == A)  # True\n",
    "print(isinstance(B(), A))  # True\n",
    "print(type(B()) == A)  # False"
   ]
  },
  {
   "cell_type": "markdown",
   "metadata": {},
   "source": [
    "- <code>hasattr(object, name)</code>用于判断对象是否包含对应的属性"
   ]
  },
  {
   "cell_type": "code",
   "execution_count": 21,
   "metadata": {},
   "outputs": [
    {
     "name": "stdout",
     "output_type": "stream",
     "text": [
      "True\n",
      "True\n",
      "True\n",
      "False\n"
     ]
    }
   ],
   "source": [
    "class Coordinate:\n",
    "    x = 10\n",
    "    y = -5\n",
    "    z = 0\n",
    "\n",
    "point1 = Coordinate()\n",
    "print(hasattr(point1, 'x'))  # True\n",
    "print(hasattr(point1, 'y'))  # True\n",
    "print(hasattr(point1, 'z'))  # True\n",
    "print(hasattr(point1, 'no'))  # False"
   ]
  },
  {
   "cell_type": "markdown",
   "metadata": {},
   "source": [
    "- <code>getattr(object, name[, default])</code>用于返回一个对象属性值"
   ]
  },
  {
   "cell_type": "code",
   "execution_count": 22,
   "metadata": {},
   "outputs": [
    {
     "name": "stdout",
     "output_type": "stream",
     "text": [
      "1\n",
      "3\n"
     ]
    },
    {
     "ename": "AttributeError",
     "evalue": "'A' object has no attribute 'bar2'",
     "output_type": "error",
     "traceback": [
      "\u001b[1;31m---------------------------------------------------------------------------\u001b[0m",
      "\u001b[1;31mAttributeError\u001b[0m                            Traceback (most recent call last)",
      "\u001b[1;32m<ipython-input-22-a381bb20461b>\u001b[0m in \u001b[0;36m<module>\u001b[1;34m\u001b[0m\n\u001b[0;32m      6\u001b[0m \u001b[0mprint\u001b[0m\u001b[1;33m(\u001b[0m\u001b[0mgetattr\u001b[0m\u001b[1;33m(\u001b[0m\u001b[0ma\u001b[0m\u001b[1;33m,\u001b[0m \u001b[1;34m'bar'\u001b[0m\u001b[1;33m)\u001b[0m\u001b[1;33m)\u001b[0m  \u001b[1;31m# 1\u001b[0m\u001b[1;33m\u001b[0m\u001b[1;33m\u001b[0m\u001b[0m\n\u001b[0;32m      7\u001b[0m \u001b[0mprint\u001b[0m\u001b[1;33m(\u001b[0m\u001b[0mgetattr\u001b[0m\u001b[1;33m(\u001b[0m\u001b[0ma\u001b[0m\u001b[1;33m,\u001b[0m \u001b[1;34m'bar2'\u001b[0m\u001b[1;33m,\u001b[0m \u001b[1;36m3\u001b[0m\u001b[1;33m)\u001b[0m\u001b[1;33m)\u001b[0m  \u001b[1;31m# 3\u001b[0m\u001b[1;33m\u001b[0m\u001b[1;33m\u001b[0m\u001b[0m\n\u001b[1;32m----> 8\u001b[1;33m \u001b[0mprint\u001b[0m\u001b[1;33m(\u001b[0m\u001b[0mgetattr\u001b[0m\u001b[1;33m(\u001b[0m\u001b[0ma\u001b[0m\u001b[1;33m,\u001b[0m \u001b[1;34m'bar2'\u001b[0m\u001b[1;33m)\u001b[0m\u001b[1;33m)\u001b[0m\u001b[1;33m\u001b[0m\u001b[1;33m\u001b[0m\u001b[0m\n\u001b[0m\u001b[0;32m      9\u001b[0m \u001b[1;31m# AttributeError: 'A' object has no attribute 'bar2'\u001b[0m\u001b[1;33m\u001b[0m\u001b[1;33m\u001b[0m\u001b[1;33m\u001b[0m\u001b[0m\n",
      "\u001b[1;31mAttributeError\u001b[0m: 'A' object has no attribute 'bar2'"
     ]
    }
   ],
   "source": [
    "class A(object):\n",
    "    bar = 1\n",
    "\n",
    "\n",
    "a = A()\n",
    "print(getattr(a, 'bar'))  # 1\n",
    "print(getattr(a, 'bar2', 3))  # 3\n",
    "print(getattr(a, 'bar2'))\n",
    "# AttributeError: 'A' object has no attribute 'bar2'"
   ]
  },
  {
   "cell_type": "markdown",
   "metadata": {},
   "source": [
    "class A(object):\n",
    "    def set(self, a, b):\n",
    "        x = a\n",
    "        a = b\n",
    "        b = x\n",
    "        print(a, b)\n",
    "\n",
    "\n",
    "a = A()\n",
    "c = getattr(a, 'set')\n",
    "c(a='1', b='2')  # 2 1"
   ]
  },
  {
   "cell_type": "markdown",
   "metadata": {},
   "source": [
    "- <code>setattr(object, name, value)</code>对应函数 <code>getattr()</code>，用于设置属性值，该属性不一定是存在的"
   ]
  },
  {
   "cell_type": "code",
   "execution_count": 24,
   "metadata": {},
   "outputs": [
    {
     "name": "stdout",
     "output_type": "stream",
     "text": [
      "1\n",
      "5\n",
      "28\n"
     ]
    }
   ],
   "source": [
    "class A(object):\n",
    "    bar = 1\n",
    "\n",
    "\n",
    "a = A()\n",
    "print(getattr(a, 'bar'))  # 1\n",
    "setattr(a, 'bar', 5)\n",
    "print(a.bar)  # 5\n",
    "setattr(a, \"age\", 28)\n",
    "print(a.age)  # 28"
   ]
  },
  {
   "cell_type": "markdown",
   "metadata": {},
   "source": [
    "- <code>delattr(object, name)</code>用于删除属性"
   ]
  },
  {
   "cell_type": "code",
   "execution_count": 26,
   "metadata": {},
   "outputs": [
    {
     "name": "stdout",
     "output_type": "stream",
     "text": [
      "x =  10\n",
      "y =  -5\n",
      "z =  0\n",
      "--删除 z 属性后--\n",
      "x =  10\n",
      "y =  -5\n"
     ]
    },
    {
     "ename": "AttributeError",
     "evalue": "'Coordinate' object has no attribute 'z'",
     "output_type": "error",
     "traceback": [
      "\u001b[1;31m---------------------------------------------------------------------------\u001b[0m",
      "\u001b[1;31mAttributeError\u001b[0m                            Traceback (most recent call last)",
      "\u001b[1;32m<ipython-input-26-e10298e6b2b2>\u001b[0m in \u001b[0;36m<module>\u001b[1;34m\u001b[0m\n\u001b[0;32m     18\u001b[0m \u001b[1;33m\u001b[0m\u001b[0m\n\u001b[0;32m     19\u001b[0m \u001b[1;31m# 触发错误\u001b[0m\u001b[1;33m\u001b[0m\u001b[1;33m\u001b[0m\u001b[1;33m\u001b[0m\u001b[0m\n\u001b[1;32m---> 20\u001b[1;33m \u001b[0mprint\u001b[0m\u001b[1;33m(\u001b[0m\u001b[1;34m'z = '\u001b[0m\u001b[1;33m,\u001b[0m \u001b[0mpoint1\u001b[0m\u001b[1;33m.\u001b[0m\u001b[0mz\u001b[0m\u001b[1;33m)\u001b[0m\u001b[1;33m\u001b[0m\u001b[1;33m\u001b[0m\u001b[0m\n\u001b[0m\u001b[0;32m     21\u001b[0m \u001b[1;31m# AttributeError: 'Coordinate' object has no attribute 'z'\u001b[0m\u001b[1;33m\u001b[0m\u001b[1;33m\u001b[0m\u001b[1;33m\u001b[0m\u001b[0m\n",
      "\u001b[1;31mAttributeError\u001b[0m: 'Coordinate' object has no attribute 'z'"
     ]
    }
   ],
   "source": [
    "class Coordinate:\n",
    "    x = 10\n",
    "    y = -5\n",
    "    z = 0\n",
    "\n",
    "\n",
    "point1 = Coordinate()\n",
    "\n",
    "print('x = ', point1.x)  # x =  10\n",
    "print('y = ', point1.y)  # y =  -5\n",
    "print('z = ', point1.z)  # z =  0\n",
    "\n",
    "delattr(Coordinate, 'z')\n",
    "\n",
    "print('--删除 z 属性后--')  # --删除 z 属性后--\n",
    "print('x = ', point1.x)  # x =  10\n",
    "print('y = ', point1.y)  # y =  -5\n",
    "\n",
    "# 触发错误\n",
    "print('z = ', point1.z)\n",
    "# AttributeError: 'Coordinate' object has no attribute 'z'"
   ]
  },
  {
   "cell_type": "markdown",
   "metadata": {},
   "source": [
    "- <code>class property([fget[, fset[, fdel[, doc]]]])</code>用于在新式类中返回属性值。\n",
    "    - <code>fget</code> -- 获取属性值的函数\n",
    "    - <code>fset</code> -- 设置属性值的函数\n",
    "    - <code>fdel</code> -- 删除属性值函数\n",
    "    - <code>doc </code>-- 属性描述信息\n"
   ]
  },
  {
   "cell_type": "code",
   "execution_count": 27,
   "metadata": {},
   "outputs": [
    {
     "name": "stdout",
     "output_type": "stream",
     "text": [
      "2\n"
     ]
    },
    {
     "ename": "AttributeError",
     "evalue": "'C' object has no attribute '_C__x'",
     "output_type": "error",
     "traceback": [
      "\u001b[1;31m---------------------------------------------------------------------------\u001b[0m",
      "\u001b[1;31mAttributeError\u001b[0m                            Traceback (most recent call last)",
      "\u001b[1;32m<ipython-input-27-d840fe9e9f89>\u001b[0m in \u001b[0;36m<module>\u001b[1;34m\u001b[0m\n\u001b[0;32m     20\u001b[0m \u001b[1;33m\u001b[0m\u001b[0m\n\u001b[0;32m     21\u001b[0m \u001b[1;32mdel\u001b[0m \u001b[0mcc\u001b[0m\u001b[1;33m.\u001b[0m\u001b[0mx\u001b[0m\u001b[1;33m\u001b[0m\u001b[1;33m\u001b[0m\u001b[0m\n\u001b[1;32m---> 22\u001b[1;33m \u001b[0mprint\u001b[0m\u001b[1;33m(\u001b[0m\u001b[0mcc\u001b[0m\u001b[1;33m.\u001b[0m\u001b[0mx\u001b[0m\u001b[1;33m)\u001b[0m\u001b[1;33m\u001b[0m\u001b[1;33m\u001b[0m\u001b[0m\n\u001b[0m\u001b[0;32m     23\u001b[0m \u001b[1;31m# AttributeError: 'C' object has no attribute '_C__x'\u001b[0m\u001b[1;33m\u001b[0m\u001b[1;33m\u001b[0m\u001b[1;33m\u001b[0m\u001b[0m\n",
      "\u001b[1;32m<ipython-input-27-d840fe9e9f89>\u001b[0m in \u001b[0;36mgetx\u001b[1;34m(self)\u001b[0m\n\u001b[0;32m      4\u001b[0m \u001b[1;33m\u001b[0m\u001b[0m\n\u001b[0;32m      5\u001b[0m     \u001b[1;32mdef\u001b[0m \u001b[0mgetx\u001b[0m\u001b[1;33m(\u001b[0m\u001b[0mself\u001b[0m\u001b[1;33m)\u001b[0m\u001b[1;33m:\u001b[0m\u001b[1;33m\u001b[0m\u001b[1;33m\u001b[0m\u001b[0m\n\u001b[1;32m----> 6\u001b[1;33m         \u001b[1;32mreturn\u001b[0m \u001b[0mself\u001b[0m\u001b[1;33m.\u001b[0m\u001b[0m__x\u001b[0m\u001b[1;33m\u001b[0m\u001b[1;33m\u001b[0m\u001b[0m\n\u001b[0m\u001b[0;32m      7\u001b[0m \u001b[1;33m\u001b[0m\u001b[0m\n\u001b[0;32m      8\u001b[0m     \u001b[1;32mdef\u001b[0m \u001b[0msetx\u001b[0m\u001b[1;33m(\u001b[0m\u001b[0mself\u001b[0m\u001b[1;33m,\u001b[0m \u001b[0mvalue\u001b[0m\u001b[1;33m)\u001b[0m\u001b[1;33m:\u001b[0m\u001b[1;33m\u001b[0m\u001b[1;33m\u001b[0m\u001b[0m\n",
      "\u001b[1;31mAttributeError\u001b[0m: 'C' object has no attribute '_C__x'"
     ]
    }
   ],
   "source": [
    "class C(object):\n",
    "    def __init__(self):\n",
    "        self.__x = None\n",
    "\n",
    "    def getx(self):\n",
    "        return self.__x\n",
    "\n",
    "    def setx(self, value):\n",
    "        self.__x = value\n",
    "\n",
    "    def delx(self):\n",
    "        del self.__x\n",
    "\n",
    "    x = property(getx, setx, delx, \"I'm the 'x' property.\")\n",
    "\n",
    "\n",
    "cc = C()\n",
    "cc.x = 2\n",
    "print(cc.x)  # 2\n",
    "\n",
    "del cc.x\n",
    "print(cc.x)\n",
    "# AttributeError: 'C' object has no attribute '_C__x'"
   ]
  },
  {
   "cell_type": "code",
   "execution_count": null,
   "metadata": {},
   "outputs": [],
   "source": []
  }
 ],
 "metadata": {
  "kernelspec": {
   "display_name": "Python 3",
   "language": "python",
   "name": "python3"
  },
  "language_info": {
   "codemirror_mode": {
    "name": "ipython",
    "version": 3
   },
   "file_extension": ".py",
   "mimetype": "text/x-python",
   "name": "python",
   "nbconvert_exporter": "python",
   "pygments_lexer": "ipython3",
   "version": "3.7.6"
  },
  "toc": {
   "base_numbering": 1,
   "nav_menu": {},
   "number_sections": true,
   "sideBar": true,
   "skip_h1_title": false,
   "title_cell": "Table of Contents",
   "title_sidebar": "Contents",
   "toc_cell": false,
   "toc_position": {},
   "toc_section_display": true,
   "toc_window_display": false
  }
 },
 "nbformat": 4,
 "nbformat_minor": 4
}
