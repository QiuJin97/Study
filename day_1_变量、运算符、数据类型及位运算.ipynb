{
 "cells": [
  {
   "cell_type": "code",
   "execution_count": null,
   "metadata": {},
   "outputs": [],
   "source": [
    "print(\"注释\") #单行注释\n",
    "'''\n",
    "区间注释\n",
    "区间注释\n",
    "区间注释\n",
    "'''\n",
    "\n",
    "\"\"\"\n",
    "区间注释\n",
    "区间注释\n",
    "区间注释\n",
    "\"\"\""
   ]
  },
  {
   "cell_type": "code",
   "execution_count": 8,
   "metadata": {},
   "outputs": [
    {
     "name": "stdout",
     "output_type": "stream",
     "text": [
      "2\n",
      "-1\n",
      "20\n",
      "0.8333333333333334\n",
      "0\n",
      "1\n",
      "7\n",
      "1\n",
      "8\n"
     ]
    }
   ],
   "source": [
    "#运算符\n",
    "print(1+1)\n",
    "print(2-3)\n",
    "print(4*5)\n",
    "print(5/6)\n",
    "print(6//7)  #取整\n",
    "print(7//6)\n",
    "print(7%8)  #取余\n",
    "print(8%7)\n",
    "print(2*4)  #幂"
   ]
  },
  {
   "cell_type": "code",
   "execution_count": 9,
   "metadata": {},
   "outputs": [
    {
     "name": "stdout",
     "output_type": "stream",
     "text": [
      "False\n",
      "True\n",
      "False\n",
      "False\n",
      "True\n",
      "True\n"
     ]
    }
   ],
   "source": [
    "#比较运算符\n",
    "print(2>3)\n",
    "print(2>=2)\n",
    "print(2>=3)\n",
    "print(2==1)\n",
    "print(2!=1)\n",
    "print(2<3)"
   ]
  },
  {
   "cell_type": "code",
   "execution_count": 10,
   "metadata": {},
   "outputs": [
    {
     "name": "stdout",
     "output_type": "stream",
     "text": [
      "False\n",
      "True\n",
      "False\n"
     ]
    }
   ],
   "source": [
    "#逻辑运算符\n",
    "print((1==1)and(1==2))\n",
    "print((1==1)or(1==2))\n",
    "print(not(1==1))"
   ]
  },
  {
   "cell_type": "code",
   "execution_count": 11,
   "metadata": {},
   "outputs": [
    {
     "name": "stdout",
     "output_type": "stream",
     "text": [
      "2\n"
     ]
    },
    {
     "data": {
      "text/plain": [
       "'\\nx,y=1,2\\nif x>y:\\n    big=x\\nelse:\\n    big=y\\nprint(big)\\n'"
      ]
     },
     "execution_count": 11,
     "metadata": {},
     "output_type": "execute_result"
    }
   ],
   "source": [
    "#三元运算符\n",
    "x,y=1,2\n",
    "big=1 if x>=y else y\n",
    "print(big)\n",
    "\"\"\"\n",
    "x,y=1,2\n",
    "if x>y:\n",
    "    big=x\n",
    "else:\n",
    "    big=y\n",
    "print(big)\n",
    "\"\"\""
   ]
  },
  {
   "cell_type": "code",
   "execution_count": 15,
   "metadata": {},
   "outputs": [
    {
     "name": "stdout",
     "output_type": "stream",
     "text": [
      "a exists\n",
      "A not exists\n",
      "True True : True True\n",
      "False False : False False\n",
      "False : True\n",
      "True : False\n"
     ]
    }
   ],
   "source": [
    "#其他运算符\n",
    "dic = ['a','b','c']\n",
    "if \"a\" in dic:\n",
    "    print(\"a\"+\" exists\")\n",
    "if \"A\" not in dic:\n",
    "    print(\"A\"+\" not exists\")\n",
    "\n",
    "a = 'hello'\n",
    "b = 'hello'\n",
    "c = \"hello\"\n",
    "print(a is b , a is c , \":\" , a==b , a==c)\n",
    "print(a is not b ,a is not c ,\":\" , a!=b , a!=c)\n",
    "\n",
    "d = [\"hello\"]  #两个变量均指向可变类型（is和is not 对比的是两个变量的内存地址，==和！=对比的是两个变量的值）\n",
    "e = [\"hello\"]\n",
    "print(d is e , \":\" , d==e )\n",
    "print(d is not e ,\":\" , d!=e)\n",
    "\n",
    "#比较的两个变量，指向的都是地址不可变的类型（str等），那么is，is not 和 ==，！= 是完全等价的。\n",
    "#对比的两个变量，指向的是地址可变的类型（list，dict，tuple等），则两者是有区别的。"
   ]
  },
  {
   "cell_type": "code",
   "execution_count": 16,
   "metadata": {},
   "outputs": [
    {
     "name": "stdout",
     "output_type": "stream",
     "text": [
      "-4 4 0.25\n",
      "0 0\n",
      "7\n",
      "True True\n"
     ]
    }
   ],
   "source": [
    "#运算符的优先级\n",
    "#一元运算符高于二元运算符\n",
    "print(-2**2 , (-2)**2 , 2**-2)\n",
    "#先算术运算，后移位运算，最后位运算\n",
    "print(1 << 3 + 2 & 7 , (1 << (3 + 2)) & 7)\n",
    "print( 1 + 2 * 3 )\n",
    "#逻辑运算最后结合\n",
    "print( 3 < 4 and 4 < 5 , (3 < 4) and (4 < 5) )"
   ]
  },
  {
   "cell_type": "code",
   "execution_count": 17,
   "metadata": {},
   "outputs": [
    {
     "name": "stdout",
     "output_type": "stream",
     "text": [
      "0b10000000000\n"
     ]
    },
    {
     "ename": "AttributeError",
     "evalue": "'str' object has no attribute 'bit_length'",
     "output_type": "error",
     "traceback": [
      "\u001b[1;31m---------------------------------------------------------------------------\u001b[0m",
      "\u001b[1;31mAttributeError\u001b[0m                            Traceback (most recent call last)",
      "\u001b[1;32m<ipython-input-17-8b27678f7aac>\u001b[0m in \u001b[0;36m<module>\u001b[1;34m\u001b[0m\n\u001b[0;32m      1\u001b[0m \u001b[1;31m#数据类型及转换\u001b[0m\u001b[1;33m\u001b[0m\u001b[1;33m\u001b[0m\u001b[1;33m\u001b[0m\u001b[0m\n\u001b[0;32m      2\u001b[0m \u001b[0mprint\u001b[0m\u001b[1;33m(\u001b[0m\u001b[0mbin\u001b[0m\u001b[1;33m(\u001b[0m\u001b[1;36m1024\u001b[0m\u001b[1;33m)\u001b[0m\u001b[1;33m)\u001b[0m  \u001b[1;31m#转化为二进制\u001b[0m\u001b[1;33m\u001b[0m\u001b[1;33m\u001b[0m\u001b[0m\n\u001b[1;32m----> 3\u001b[1;33m \u001b[0mprint\u001b[0m\u001b[1;33m(\u001b[0m\u001b[1;34m\"1024\"\u001b[0m\u001b[1;33m.\u001b[0m\u001b[0mbit_length\u001b[0m\u001b[1;33m)\u001b[0m\u001b[1;33m\u001b[0m\u001b[1;33m\u001b[0m\u001b[0m\n\u001b[0m",
      "\u001b[1;31mAttributeError\u001b[0m: 'str' object has no attribute 'bit_length'"
     ]
    }
   ],
   "source": [
    "#数据类型及转换\n",
    "print(bin(1024))  #转化为二进制\n",
    "print(\"1024\".bit_length)"
   ]
  },
  {
   "cell_type": "code",
   "execution_count": 18,
   "metadata": {},
   "outputs": [
    {
     "name": "stdout",
     "output_type": "stream",
     "text": [
      "11\n"
     ]
    }
   ],
   "source": [
    "a=1024\n",
    "print(a.bit_length())"
   ]
  },
  {
   "cell_type": "code",
   "execution_count": 12,
   "metadata": {},
   "outputs": [
    {
     "data": {
      "text/plain": [
       "['BasicContext',\n",
       " 'Clamped',\n",
       " 'Context',\n",
       " 'ConversionSyntax',\n",
       " 'Decimal',\n",
       " 'DecimalException',\n",
       " 'DecimalTuple',\n",
       " 'DefaultContext',\n",
       " 'DivisionByZero',\n",
       " 'DivisionImpossible',\n",
       " 'DivisionUndefined',\n",
       " 'ExtendedContext',\n",
       " 'FloatOperation',\n",
       " 'HAVE_THREADS',\n",
       " 'Inexact',\n",
       " 'InvalidContext',\n",
       " 'InvalidOperation',\n",
       " 'MAX_EMAX',\n",
       " 'MAX_PREC',\n",
       " 'MIN_EMIN',\n",
       " 'MIN_ETINY',\n",
       " 'Overflow',\n",
       " 'ROUND_05UP',\n",
       " 'ROUND_CEILING',\n",
       " 'ROUND_DOWN',\n",
       " 'ROUND_FLOOR',\n",
       " 'ROUND_HALF_DOWN',\n",
       " 'ROUND_HALF_EVEN',\n",
       " 'ROUND_HALF_UP',\n",
       " 'ROUND_UP',\n",
       " 'Rounded',\n",
       " 'Subnormal',\n",
       " 'Underflow',\n",
       " '__builtins__',\n",
       " '__cached__',\n",
       " '__doc__',\n",
       " '__file__',\n",
       " '__libmpdec_version__',\n",
       " '__loader__',\n",
       " '__name__',\n",
       " '__package__',\n",
       " '__spec__',\n",
       " '__version__',\n",
       " 'getcontext',\n",
       " 'localcontext',\n",
       " 'setcontext']"
      ]
     },
     "execution_count": 12,
     "metadata": {},
     "output_type": "execute_result"
    }
   ],
   "source": [
    "import decimal\n",
    "from decimal import Decimal\n",
    "dir(decimal)"
   ]
  },
  {
   "cell_type": "code",
   "execution_count": 20,
   "metadata": {},
   "outputs": [
    {
     "name": "stdout",
     "output_type": "stream",
     "text": [
      "Context(prec=28, rounding=ROUND_HALF_EVEN, Emin=-999999, Emax=999999, capitals=1, clamp=0, flags=[], traps=[InvalidOperation, DivisionByZero, Overflow])\n"
     ]
    }
   ],
   "source": [
    "a=decimal.getcontext()\n",
    "print(a)"
   ]
  },
  {
   "cell_type": "code",
   "execution_count": 21,
   "metadata": {},
   "outputs": [
    {
     "name": "stdout",
     "output_type": "stream",
     "text": [
      "0.3333333333333333333333333333\n",
      "0.333333333333333314829616256247390992939472198486328125\n",
      "0.3333333333333333\n"
     ]
    }
   ],
   "source": [
    "b=Decimal(1)/Decimal(3)\n",
    "bb=Decimal(1/3)\n",
    "bbb=1/3\n",
    "print(b)\n",
    "print(bb)\n",
    "print(bbb)\n"
   ]
  },
  {
   "cell_type": "code",
   "execution_count": 13,
   "metadata": {},
   "outputs": [
    {
     "ename": "AttributeError",
     "evalue": "'builtin_function_or_method' object has no attribute 'prec'",
     "output_type": "error",
     "traceback": [
      "\u001b[1;31m---------------------------------------------------------------------------\u001b[0m",
      "\u001b[1;31mAttributeError\u001b[0m                            Traceback (most recent call last)",
      "\u001b[1;32m<ipython-input-13-d82d901c4c33>\u001b[0m in \u001b[0;36m<module>\u001b[1;34m\u001b[0m\n\u001b[1;32m----> 1\u001b[1;33m \u001b[0mdecimal\u001b[0m\u001b[1;33m.\u001b[0m\u001b[0mgetcontext\u001b[0m\u001b[1;33m.\u001b[0m\u001b[0mprec\u001b[0m\u001b[1;33m=\u001b[0m\u001b[1;36m4\u001b[0m\u001b[1;33m\u001b[0m\u001b[1;33m\u001b[0m\u001b[0m\n\u001b[0m\u001b[0;32m      2\u001b[0m \u001b[0mc\u001b[0m\u001b[1;33m=\u001b[0m\u001b[0mDecimal\u001b[0m\u001b[1;33m(\u001b[0m\u001b[1;36m1\u001b[0m\u001b[1;33m)\u001b[0m\u001b[1;33m/\u001b[0m\u001b[0mDecimal\u001b[0m\u001b[1;33m(\u001b[0m\u001b[1;36m3\u001b[0m\u001b[1;33m)\u001b[0m\u001b[1;33m\u001b[0m\u001b[1;33m\u001b[0m\u001b[0m\n\u001b[0;32m      3\u001b[0m \u001b[0mcc\u001b[0m\u001b[1;33m=\u001b[0m\u001b[0mDecimal\u001b[0m\u001b[1;33m(\u001b[0m\u001b[1;36m1\u001b[0m\u001b[1;33m/\u001b[0m\u001b[1;36m3\u001b[0m\u001b[1;33m)\u001b[0m\u001b[1;33m\u001b[0m\u001b[1;33m\u001b[0m\u001b[0m\n\u001b[0;32m      4\u001b[0m \u001b[0mprint\u001b[0m\u001b[1;33m(\u001b[0m\u001b[0mc\u001b[0m\u001b[1;33m)\u001b[0m\u001b[1;33m\u001b[0m\u001b[1;33m\u001b[0m\u001b[0m\n\u001b[0;32m      5\u001b[0m \u001b[0mprint\u001b[0m\u001b[1;33m(\u001b[0m\u001b[0mcc\u001b[0m\u001b[1;33m)\u001b[0m\u001b[1;33m\u001b[0m\u001b[1;33m\u001b[0m\u001b[0m\n",
      "\u001b[1;31mAttributeError\u001b[0m: 'builtin_function_or_method' object has no attribute 'prec'"
     ]
    }
   ],
   "source": [
    "decimal.getcontext.prec=4\n",
    "c=Decimal(1)/Decimal(3)\n",
    "cc=Decimal(1/3)\n",
    "print(c)\n",
    "print(cc)\n"
   ]
  },
  {
   "cell_type": "code",
   "execution_count": 23,
   "metadata": {},
   "outputs": [
    {
     "name": "stdout",
     "output_type": "stream",
     "text": [
      "0.3333\n",
      "0.333333333333333314829616256247390992939472198486328125\n"
     ]
    }
   ],
   "source": [
    "decimal.getcontext().prec=4\n",
    "c=Decimal(1)/Decimal(3)\n",
    "cc=Decimal(1/3)\n",
    "print(c)\n",
    "print(cc)"
   ]
  },
  {
   "cell_type": "code",
   "execution_count": 15,
   "metadata": {},
   "outputs": [
    {
     "name": "stdout",
     "output_type": "stream",
     "text": [
      "0.3333\n",
      "0.333333333333333314829616256247390992939472198486328125\n",
      "0.3333\n"
     ]
    }
   ],
   "source": [
    "decimal.getcontext().prec=4\n",
    "c=Decimal(1)/Decimal(3)\n",
    "cc=Decimal(1/3)\n",
    "ccc=Decimal(1)/Decimal(3)\n",
    "print(c)\n",
    "print(cc)\n",
    "print(ccc)\n",
    "#Decimal对象的精度与舍入操作仅参与算数运算实现，对于Decimal(1/3)返回的是Decimal(1/3)的准确表示，一般为53位及以上."
   ]
  },
  {
   "cell_type": "code",
   "execution_count": 25,
   "metadata": {},
   "outputs": [
    {
     "name": "stdout",
     "output_type": "stream",
     "text": [
      "2 1 0\n"
     ]
    }
   ],
   "source": [
    "print(True+True,True+False,True*False)"
   ]
  },
  {
   "cell_type": "code",
   "execution_count": 26,
   "metadata": {},
   "outputs": [
    {
     "name": "stdout",
     "output_type": "stream",
     "text": [
      "True True True\n"
     ]
    }
   ],
   "source": [
    "print(bool(2),bool(a),bool(True))"
   ]
  },
  {
   "cell_type": "code",
   "execution_count": 27,
   "metadata": {},
   "outputs": [
    {
     "name": "stdout",
     "output_type": "stream",
     "text": [
      "<class 'str'> False True\n",
      "<class 'tuple'> False True\n",
      "<class 'list'> False True\n",
      "<class 'dict'> False True\n",
      "<class 'set'> False True\n"
     ]
    }
   ],
   "source": [
    "#基本类型：整型、浮点型、布尔型\n",
    "#容器类型：字符串、元组、列表、字典和集合\n",
    "#bool 作用在基本类型变量：X 只要不是整型 0、浮点型 0.0，bool(X) 就是 True，其余就是 False\n",
    "#bool 作用在容器类型变量：X 只要不是空的变量，bool(X) 就是 True，其余就是 False。\n",
    "\n",
    "print(type(''), bool(''), bool('python'))\n",
    "\n",
    "print(type(()), bool(()), bool((10,)))\n",
    "\n",
    "print(type([]), bool([]), bool([1, 2]))\n",
    "\n",
    "print(type({}), bool({}), bool({'a': 1, 'b': 2}))\n",
    "\n",
    "print(type(set()), bool(set()), bool({1, 2}))"
   ]
  },
  {
   "cell_type": "code",
   "execution_count": 29,
   "metadata": {},
   "outputs": [
    {
     "name": "stdout",
     "output_type": "stream",
     "text": [
      "True\n",
      "True\n",
      "False\n"
     ]
    }
   ],
   "source": [
    "print(isinstance(1,int))  #判断一个对象是否是一个已知的类型\n",
    "print(isinstance(5.2, float))\n",
    "print(isinstance(\"5.2\", float))\n",
    "\n",
    "#type() 不会认为子类是一种父类类型，不考虑继承关系\n",
    "#isinstance() 会认为子类是一种父类类型，考虑继承关系\n",
    "#如果要判断两个类型是否相同推荐使用 isinstance()"
   ]
  },
  {
   "cell_type": "code",
   "execution_count": 30,
   "metadata": {},
   "outputs": [
    {
     "name": "stdout",
     "output_type": "stream",
     "text": [
      "12\n",
      "1 1\n",
      "10.0\n"
     ]
    }
   ],
   "source": [
    "#类型转换\n",
    "print(str(10+2))\n",
    "print(int(1.66),int(1.22222))\n",
    "print(float(\"10\"))\n"
   ]
  },
  {
   "cell_type": "code",
   "execution_count": 31,
   "metadata": {},
   "outputs": [
    {
     "name": "stdout",
     "output_type": "stream",
     "text": [
      "This is printed without 'end'and 'sep'.\n",
      "apple\n",
      "mango\n",
      "carrot\n",
      "banana\n"
     ]
    }
   ],
   "source": [
    "shoplist = ['apple', 'mango', 'carrot', 'banana']\n",
    "print(\"This is printed without 'end'and 'sep'.\")\n",
    "for item in shoplist:\n",
    "    print(item)"
   ]
  },
  {
   "cell_type": "code",
   "execution_count": 32,
   "metadata": {},
   "outputs": [
    {
     "name": "stdout",
     "output_type": "stream",
     "text": [
      "This is printed with 'end='&''.\n",
      "apple&mango&carrot&banana&hello world\n"
     ]
    }
   ],
   "source": [
    "shoplist = ['apple', 'mango', 'carrot', 'banana']\n",
    "print(\"This is printed with 'end='&''.\")\n",
    "for item in shoplist:\n",
    "    print(item, end='&')\n",
    "print('hello world')"
   ]
  },
  {
   "cell_type": "code",
   "execution_count": 33,
   "metadata": {},
   "outputs": [
    {
     "name": "stdout",
     "output_type": "stream",
     "text": [
      "This is printed with 'sep='&''.\n",
      "apple&another string\n",
      "mango&another string\n",
      "carrot&another string\n",
      "banana&another string\n"
     ]
    }
   ],
   "source": [
    "shoplist = ['apple', 'mango', 'carrot', 'banana']\n",
    "print(\"This is printed with 'sep='&''.\")\n",
    "for item in shoplist:\n",
    "    print(item, 'another string', sep='&')"
   ]
  },
  {
   "cell_type": "markdown",
   "metadata": {},
   "source": [
    "###### 通过 <<，>> 快速计算2的倍数问题。\n",
    "<code>\n",
    "n << 1 -> 计算 n*2\n",
    "n >> 1 -> 计算 n/2，负奇数的运算不可用\n",
    "n << m -> 计算 n*(2^m)，即乘以 2 的 m 次方\n",
    "n >> m -> 计算 n/(2^m)，即除以 2 的 m 次方\n",
    "1 << n -> 2^n\n",
    "</code>\n",
    "\n",
    "###### 通过 ^ 快速交换两个整数。\n",
    "<code>\n",
    "a ^= b\n",
    "b ^= a\n",
    "a ^= b\n",
    "</code>\n",
    "首先 ^是位异或运算，对应的二进制位同为0或同为1 结果为0 。\n",
    "比如 a = 2 ,b =1 对应的二进制为a = 10 ,b=01 ,^异或操作\n",
    "所以 ,a^=b 即 a= a^b 也就是 10^01 = 11 ,a变成11\n",
    "b^=a 即 b=b^a 也就是 01^11= 10 ,b变成 10\n",
    "a^=b 即 a=a^b 也就是 11^10 = 01 ,a变为01\n",
    "a和b完成交换。 \n",
    "\n",
    "##### 通过 a & (-a) 快速获取a的最后为 1 位置的整数。\n",
    "\n",
    "00 00 01 01 -> 5\n",
    "&\n",
    "11 11 10 11 -> -5\n",
    "结果：\n",
    "00 00 00 01 -> 1\n",
    "\n",
    "00 00 11 10 -> 14\n",
    "&\n",
    "11 11 00 10 -> -14\n",
    "结果：\n",
    "00 00 00 10 -> 2\n",
    "\n"
   ]
  },
  {
   "cell_type": "code",
   "execution_count": 25,
   "metadata": {},
   "outputs": [
    {
     "name": "stdout",
     "output_type": "stream",
     "text": [
      "0b0\n",
      "0b100\n",
      "0b100100\n",
      "4 0\n",
      "0b100000\n"
     ]
    }
   ],
   "source": [
    "a=0b000\n",
    "print(bin(a))\n",
    "b=a|(1<<2)  #a|(1<<i)  -> 把 i 插入到集合中\n",
    "c=b|(1<<5)\n",
    "print(bin(b))\n",
    "print(bin(c))\n",
    "print(c&(1<<2),c&(1<<3))   #a & (1<<i)  -> 判断 i 是否属于该集合（零不属于，非零属于）\n",
    "d=c&~(1<<2)\n",
    "print(bin(d))  #a & ~(1<<i) -> 把 i 从集合中删除"
   ]
  },
  {
   "cell_type": "code",
   "execution_count": 1,
   "metadata": {},
   "outputs": [],
   "source": [
    "def singleNumber(self, nums):\n",
    "        \"\"\"\n",
    "        :type nums: List[int]\n",
    "        :rtype: int\n",
    "        \"\"\"\n",
    "        ans=0\n",
    "        for i in nums:\n",
    "            ans^=i\n",
    "        return ans"
   ]
  },
  {
   "cell_type": "code",
   "execution_count": 41,
   "metadata": {},
   "outputs": [
    {
     "name": "stdout",
     "output_type": "stream",
     "text": [
      "8\n",
      "8\n",
      "1\n"
     ]
    }
   ],
   "source": [
    "a=0b000001000\n",
    "b=5\n",
    "print(a)\n",
    "print(a&(-a))\n",
    "print(b&(-b))"
   ]
  },
  {
   "cell_type": "code",
   "execution_count": null,
   "metadata": {},
   "outputs": [],
   "source": []
  }
 ],
 "metadata": {
  "kernelspec": {
   "display_name": "Python 3",
   "language": "python",
   "name": "python3"
  },
  "language_info": {
   "codemirror_mode": {
    "name": "ipython",
    "version": 3
   },
   "file_extension": ".py",
   "mimetype": "text/x-python",
   "name": "python",
   "nbconvert_exporter": "python",
   "pygments_lexer": "ipython3",
   "version": "3.7.6"
  }
 },
 "nbformat": 4,
 "nbformat_minor": 4
}
